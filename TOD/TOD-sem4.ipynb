{
 "cells": [
  {
   "cell_type": "markdown",
   "id": "fde0bbb8",
   "metadata": {},
   "source": [
    "1. На листе \"Рецептура\" файла себестоимостьА_в1.xlsx для области \"Пшеничный хлеб\" рассчитать себестоимость всех видов продукции."
   ]
  },
  {
   "cell_type": "code",
   "execution_count": 11,
   "id": "cea926c4",
   "metadata": {},
   "outputs": [
    {
     "name": "stdout",
     "output_type": "stream",
     "text": [
      "Хлеб Венгерский 21.48\n",
      "Хлеб \"Барбари\" 16.525\n",
      "Багет парижский 17.423000000000002\n",
      "Чиабатта 18.085\n"
     ]
    }
   ],
   "source": [
    "import openpyxl\n",
    "import xlwings as xw\n",
    "wb = xw.Book('data/себестоимостьА_в1.xlsx')\n",
    "sht = wb.sheets['Рецептура']\n",
    "lines = [list(map(lambda x: x if x != None else 0, i)) for i in sht.range('G7:O10').value]\n",
    "cost = sht.range('G14:O14').value\n",
    "name = sht.range('C7:C10').value\n",
    "self_costs = []\n",
    "for i in range(4):\n",
    "    print(name[i], sum([k*j for k,j in zip(lines[i], cost)]))\n",
    "    self_costs.append(sum([k*j for k,j in zip(lines[i], cost)]))"
   ]
  },
  {
   "cell_type": "markdown",
   "id": "86b559c3",
   "metadata": {},
   "source": [
    "2. Результаты расчетов 1.1 сохранить в отдельном столбце области \"Пшеничный хлеб\""
   ]
  },
  {
   "cell_type": "code",
   "execution_count": 12,
   "id": "1c54f72f",
   "metadata": {},
   "outputs": [
    {
     "ename": "com_error",
     "evalue": "(-2147023174, 'Сервер RPC недоступен.', None, None)",
     "output_type": "error",
     "traceback": [
      "\u001b[1;31m---------------------------------------------------------------------------\u001b[0m",
      "\u001b[1;31mcom_error\u001b[0m                                 Traceback (most recent call last)",
      "\u001b[1;32m~\\AppData\\Local\\Temp\\ipykernel_14988\\84554965.py\u001b[0m in \u001b[0;36m?\u001b[1;34m()\u001b[0m\n\u001b[1;32m----> 1\u001b[1;33m \u001b[0msht\u001b[0m\u001b[1;33m.\u001b[0m\u001b[0mrange\u001b[0m\u001b[1;33m(\u001b[0m\u001b[1;34m'T7'\u001b[0m\u001b[1;33m)\u001b[0m\u001b[1;33m.\u001b[0m\u001b[0moptions\u001b[0m\u001b[1;33m(\u001b[0m\u001b[0mtranspose\u001b[0m \u001b[1;33m=\u001b[0m \u001b[1;32mTrue\u001b[0m\u001b[1;33m)\u001b[0m\u001b[1;33m.\u001b[0m\u001b[0mvalue\u001b[0m \u001b[1;33m=\u001b[0m \u001b[0mself_costs\u001b[0m\u001b[1;33m\u001b[0m\u001b[1;33m\u001b[0m\u001b[0m\n\u001b[0m\u001b[0;32m      2\u001b[0m \u001b[0msht\u001b[0m\u001b[1;33m.\u001b[0m\u001b[0mrange\u001b[0m\u001b[1;33m(\u001b[0m\u001b[1;34m'T6'\u001b[0m\u001b[1;33m)\u001b[0m\u001b[1;33m.\u001b[0m\u001b[0mvalue\u001b[0m \u001b[1;33m=\u001b[0m \u001b[1;34m'Себестоимость'\u001b[0m\u001b[1;33m\u001b[0m\u001b[1;33m\u001b[0m\u001b[0m\n\u001b[0;32m      3\u001b[0m \u001b[0mprint\u001b[0m\u001b[1;33m(\u001b[0m\u001b[0msht\u001b[0m\u001b[1;33m.\u001b[0m\u001b[0mrange\u001b[0m\u001b[1;33m(\u001b[0m\u001b[1;34m'T6'\u001b[0m\u001b[1;33m)\u001b[0m\u001b[1;33m.\u001b[0m\u001b[0mvalue\u001b[0m\u001b[1;33m)\u001b[0m\u001b[1;33m\u001b[0m\u001b[1;33m\u001b[0m\u001b[0m\n",
      "\u001b[1;32m~\\anaconda3\\Lib\\site-packages\\xlwings\\main.py\u001b[0m in \u001b[0;36m?\u001b[1;34m(self, cell1, cell2)\u001b[0m\n\u001b[0;32m   1418\u001b[0m         \u001b[1;32mif\u001b[0m \u001b[0misinstance\u001b[0m\u001b[1;33m(\u001b[0m\u001b[0mcell2\u001b[0m\u001b[1;33m,\u001b[0m \u001b[0mRange\u001b[0m\u001b[1;33m)\u001b[0m\u001b[1;33m:\u001b[0m\u001b[1;33m\u001b[0m\u001b[1;33m\u001b[0m\u001b[0m\n\u001b[0;32m   1419\u001b[0m             \u001b[1;32mif\u001b[0m \u001b[0mcell2\u001b[0m\u001b[1;33m.\u001b[0m\u001b[0msheet\u001b[0m \u001b[1;33m!=\u001b[0m \u001b[0mself\u001b[0m\u001b[1;33m:\u001b[0m\u001b[1;33m\u001b[0m\u001b[1;33m\u001b[0m\u001b[0m\n\u001b[0;32m   1420\u001b[0m                 \u001b[1;32mraise\u001b[0m \u001b[0mValueError\u001b[0m\u001b[1;33m(\u001b[0m\u001b[1;34m\"Second range is not on this sheet\"\u001b[0m\u001b[1;33m)\u001b[0m\u001b[1;33m\u001b[0m\u001b[1;33m\u001b[0m\u001b[0m\n\u001b[0;32m   1421\u001b[0m             \u001b[0mcell2\u001b[0m \u001b[1;33m=\u001b[0m \u001b[0mcell2\u001b[0m\u001b[1;33m.\u001b[0m\u001b[0mimpl\u001b[0m\u001b[1;33m\u001b[0m\u001b[1;33m\u001b[0m\u001b[0m\n\u001b[1;32m-> 1422\u001b[1;33m         \u001b[1;32mreturn\u001b[0m \u001b[0mRange\u001b[0m\u001b[1;33m(\u001b[0m\u001b[0mimpl\u001b[0m\u001b[1;33m=\u001b[0m\u001b[0mself\u001b[0m\u001b[1;33m.\u001b[0m\u001b[0mimpl\u001b[0m\u001b[1;33m.\u001b[0m\u001b[0mrange\u001b[0m\u001b[1;33m(\u001b[0m\u001b[0mcell1\u001b[0m\u001b[1;33m,\u001b[0m \u001b[0mcell2\u001b[0m\u001b[1;33m)\u001b[0m\u001b[1;33m)\u001b[0m\u001b[1;33m\u001b[0m\u001b[1;33m\u001b[0m\u001b[0m\n\u001b[0m",
      "\u001b[1;32m~\\anaconda3\\Lib\\site-packages\\xlwings\\_xlwindows.py\u001b[0m in \u001b[0;36m?\u001b[1;34m(self, arg1, arg2)\u001b[0m\n\u001b[0;32m    973\u001b[0m         \u001b[1;32melif\u001b[0m \u001b[0misinstance\u001b[0m\u001b[1;33m(\u001b[0m\u001b[0marg1\u001b[0m\u001b[1;33m,\u001b[0m \u001b[0mnumbers\u001b[0m\u001b[1;33m.\u001b[0m\u001b[0mNumber\u001b[0m\u001b[1;33m)\u001b[0m \u001b[1;32mand\u001b[0m \u001b[0misinstance\u001b[0m\u001b[1;33m(\u001b[0m\u001b[0marg2\u001b[0m\u001b[1;33m,\u001b[0m \u001b[0mnumbers\u001b[0m\u001b[1;33m.\u001b[0m\u001b[0mNumber\u001b[0m\u001b[1;33m)\u001b[0m\u001b[1;33m:\u001b[0m\u001b[1;33m\u001b[0m\u001b[1;33m\u001b[0m\u001b[0m\n\u001b[0;32m    974\u001b[0m             \u001b[0mxl1\u001b[0m \u001b[1;33m=\u001b[0m \u001b[0mself\u001b[0m\u001b[1;33m.\u001b[0m\u001b[0mxl\u001b[0m\u001b[1;33m.\u001b[0m\u001b[0mCells\u001b[0m\u001b[1;33m(\u001b[0m\u001b[0marg1\u001b[0m\u001b[1;33m,\u001b[0m \u001b[0marg2\u001b[0m\u001b[1;33m)\u001b[0m\u001b[1;33m\u001b[0m\u001b[1;33m\u001b[0m\u001b[0m\n\u001b[0;32m    975\u001b[0m             \u001b[0marg2\u001b[0m \u001b[1;33m=\u001b[0m \u001b[1;32mNone\u001b[0m\u001b[1;33m\u001b[0m\u001b[1;33m\u001b[0m\u001b[0m\n\u001b[0;32m    976\u001b[0m         \u001b[1;32melse\u001b[0m\u001b[1;33m:\u001b[0m\u001b[1;33m\u001b[0m\u001b[1;33m\u001b[0m\u001b[0m\n\u001b[1;32m--> 977\u001b[1;33m             \u001b[0mxl1\u001b[0m \u001b[1;33m=\u001b[0m \u001b[0mself\u001b[0m\u001b[1;33m.\u001b[0m\u001b[0mxl\u001b[0m\u001b[1;33m.\u001b[0m\u001b[0mRange\u001b[0m\u001b[1;33m(\u001b[0m\u001b[0marg1\u001b[0m\u001b[1;33m)\u001b[0m\u001b[1;33m\u001b[0m\u001b[1;33m\u001b[0m\u001b[0m\n\u001b[0m\u001b[0;32m    978\u001b[0m \u001b[1;33m\u001b[0m\u001b[0m\n\u001b[0;32m    979\u001b[0m         \u001b[1;32mif\u001b[0m \u001b[0marg2\u001b[0m \u001b[1;32mis\u001b[0m \u001b[1;32mNone\u001b[0m\u001b[1;33m:\u001b[0m\u001b[1;33m\u001b[0m\u001b[1;33m\u001b[0m\u001b[0m\n\u001b[0;32m    980\u001b[0m             \u001b[1;32mreturn\u001b[0m \u001b[0mRange\u001b[0m\u001b[1;33m(\u001b[0m\u001b[0mxl\u001b[0m\u001b[1;33m=\u001b[0m\u001b[0mxl1\u001b[0m\u001b[1;33m)\u001b[0m\u001b[1;33m\u001b[0m\u001b[1;33m\u001b[0m\u001b[0m\n",
      "\u001b[1;32m~\\anaconda3\\Lib\\site-packages\\xlwings\\_xlwindows.py\u001b[0m in \u001b[0;36m?\u001b[1;34m(self, *args, **kwargs)\u001b[0m\n\u001b[0;32m    119\u001b[0m                 ) and e.hresult == -2147418111:\n\u001b[0;32m    120\u001b[0m                     \u001b[0mn_attempt\u001b[0m \u001b[1;33m+=\u001b[0m \u001b[1;36m1\u001b[0m\u001b[1;33m\u001b[0m\u001b[1;33m\u001b[0m\u001b[0m\n\u001b[0;32m    121\u001b[0m                     \u001b[1;32mcontinue\u001b[0m\u001b[1;33m\u001b[0m\u001b[1;33m\u001b[0m\u001b[0m\n\u001b[0;32m    122\u001b[0m                 \u001b[1;32melse\u001b[0m\u001b[1;33m:\u001b[0m\u001b[1;33m\u001b[0m\u001b[1;33m\u001b[0m\u001b[0m\n\u001b[1;32m--> 123\u001b[1;33m                     \u001b[1;32mraise\u001b[0m\u001b[1;33m\u001b[0m\u001b[1;33m\u001b[0m\u001b[0m\n\u001b[0m\u001b[0;32m    124\u001b[0m             \u001b[1;32mexcept\u001b[0m \u001b[0mAttributeError\u001b[0m\u001b[1;33m:\u001b[0m\u001b[1;33m\u001b[0m\u001b[1;33m\u001b[0m\u001b[0m\n\u001b[0;32m    125\u001b[0m                 \u001b[1;32mif\u001b[0m \u001b[1;32mnot\u001b[0m \u001b[0mN_COM_ATTEMPTS\u001b[0m \u001b[1;32mor\u001b[0m \u001b[0mn_attempt\u001b[0m \u001b[1;33m<\u001b[0m \u001b[0mN_COM_ATTEMPTS\u001b[0m\u001b[1;33m:\u001b[0m\u001b[1;33m\u001b[0m\u001b[1;33m\u001b[0m\u001b[0m\n\u001b[0;32m    126\u001b[0m                     \u001b[0mn_attempt\u001b[0m \u001b[1;33m+=\u001b[0m \u001b[1;36m1\u001b[0m\u001b[1;33m\u001b[0m\u001b[1;33m\u001b[0m\u001b[0m\n",
      "\u001b[1;32m~\\anaconda3\\Lib\\site-packages\\win32com\\gen_py\\00020813-0000-0000-C000-000000000046x0x1x9.py\u001b[0m in \u001b[0;36m?\u001b[1;34m(self, Cell1, Cell2)\u001b[0m\n\u001b[0;32m  47413\u001b[0m         \u001b[1;32mdef\u001b[0m \u001b[0mRange\u001b[0m\u001b[1;33m(\u001b[0m\u001b[0mself\u001b[0m\u001b[1;33m,\u001b[0m \u001b[0mCell1\u001b[0m\u001b[1;33m=\u001b[0m\u001b[0mdefaultNamedNotOptArg\u001b[0m\u001b[1;33m,\u001b[0m \u001b[0mCell2\u001b[0m\u001b[1;33m=\u001b[0m\u001b[0mdefaultNamedOptArg\u001b[0m\u001b[1;33m)\u001b[0m\u001b[1;33m:\u001b[0m\u001b[1;33m\u001b[0m\u001b[1;33m\u001b[0m\u001b[0m\n\u001b[1;32m> 47414\u001b[1;33m \t\tret = self._oleobj_.InvokeTypes(197, LCID, 2, (9, 0), ((12, 1), (12, 17)),Cell1\n\u001b[0m\u001b[0;32m  47415\u001b[0m \t\t\t, Cell2)\n\u001b[0;32m  47416\u001b[0m                 \u001b[1;32mif\u001b[0m \u001b[0mret\u001b[0m \u001b[1;32mis\u001b[0m \u001b[1;32mnot\u001b[0m \u001b[1;32mNone\u001b[0m\u001b[1;33m:\u001b[0m\u001b[1;33m\u001b[0m\u001b[1;33m\u001b[0m\u001b[0m\n\u001b[0;32m  47417\u001b[0m                         \u001b[0mret\u001b[0m \u001b[1;33m=\u001b[0m \u001b[0mDispatch\u001b[0m\u001b[1;33m(\u001b[0m\u001b[0mret\u001b[0m\u001b[1;33m,\u001b[0m \u001b[1;34m'Range'\u001b[0m\u001b[1;33m,\u001b[0m \u001b[1;34m'{00020846-0000-0000-C000-000000000046}'\u001b[0m\u001b[1;33m)\u001b[0m\u001b[1;33m\u001b[0m\u001b[1;33m\u001b[0m\u001b[0m\n",
      "\u001b[1;31mcom_error\u001b[0m: (-2147023174, 'Сервер RPC недоступен.', None, None)"
     ]
    }
   ],
   "source": [
    "sht.range('T7').options(transpose = True).value = self_costs\n",
    "sht.range('T6').value = 'Себестоимость' \n",
    "print(sht.range('T6').value)"
   ]
  },
  {
   "cell_type": "markdown",
   "id": "de35edc9",
   "metadata": {},
   "source": [
    "3. Приблизить форматирование столбца, добавленного в задаче 2 к оформлению всей области."
   ]
  },
  {
   "cell_type": "code",
   "execution_count": null,
   "id": "4747cd24",
   "metadata": {},
   "outputs": [],
   "source": [
    "xw.sheets[0].activate()\n",
    "xw.Range('B3:T3').merge()\n",
    "xw.Range('T4:T6').merge()\n",
    "xw.Range('B3:T3').color = (255, 255, 0)\n",
    "xw.Range('T4:T6').color = (255, 192, 0)\n",
    "xw.Range('T7:T13').color = (255, 255, 167)\n",
    "xw.Range('B3:T3').HorizontalAlignment = xw.constants.HAlign.xlHAlignCenter  # Выравнивание текста по горизонтали\n",
    "xw.Range('B3:T3').VerticalAlignment = xw.constants.VAlign.xlVAlignCenter  # Выравнивание текста по вертикали\n",
    "xw.Range('T4:T6').HorizontalAlignment = xw.constants.HAlign.xlHAlignCenter  # Выравнивание текста по горизонтали\n",
    "xw.Range('T4:T6').VerticalAlignment = xw.constants.VAlign.xlVAlignCenter  # Выравнивание текста по вертикали\n",
    "xw.Range('T4:T6').api.Font.Color = xw.utils.rgb_to_int((255, 255, 255))  # Белый текст\n",
    "xw.Range('T4:T6').api.Font.Bold = True\n",
    "xw.Range('B3:T3').api.Font.Bold = True\n",
    "rng = xw.Range('T4:T13')\n",
    "rng.columns[0].column_width = len(rng.value[0])"
   ]
  },
  {
   "cell_type": "markdown",
   "id": "eb5b65be",
   "metadata": {},
   "source": [
    "ЛАБОРАТОРНАЯ РАБОТА 7.1\n",
    "\n",
    "1. Загрузите данные из файлов reviews_sample.csv (ЛР2) и recipes_sample.csv (ЛР5) в виде pd.DataFrame. Обратите внимание на корректное считывание столбца(ов) с индексами. Оставьте в таблице с рецептами следующие столбцы: id, name, minutes, submitted, description, n_ingredients"
   ]
  },
  {
   "cell_type": "code",
   "execution_count": 4,
   "id": "313e7b0b",
   "metadata": {},
   "outputs": [
    {
     "name": "stdout",
     "output_type": "stream",
     "text": [
      "           user_id  recipe_id        date  rating  \\\n",
      "370476       21752      57993  2003-05-01       5   \n",
      "624300      431813     142201  2007-09-16       5   \n",
      "187037      400708     252013  2008-01-10       4   \n",
      "706134  2001852463     404716  2017-12-11       5   \n",
      "312179       95810     129396  2008-03-14       5   \n",
      "\n",
      "                                                   review  \n",
      "370476  Last week whole sides of frozen salmon fillet ...  \n",
      "624300  So simple and so tasty!  I used a yellow capsi...  \n",
      "187037  Very nice breakfast HH, easy to make and yummy...  \n",
      "706134  These are a favorite for the holidays and so e...  \n",
      "312179  Excellent soup!  The tomato flavor is just gre...  \n",
      "                                             id  minutes   submitted  \\\n",
      "name                                                                   \n",
      "george s at the cove  black bean soup     44123       90  2002-10-25   \n",
      "healthy for them  yogurt popsicles        67664       10  2003-07-26   \n",
      "i can t believe it s spinach              38798       30  2002-08-29   \n",
      "italian  gut busters                      35173       45  2002-07-27   \n",
      "love is in the air  beef fondue   sauces  84797       25  2004-02-23   \n",
      "\n",
      "                                                                                description  \\\n",
      "name                                                                                          \n",
      "george s at the cove  black bean soup     an original recipe created by chef scott meska...   \n",
      "healthy for them  yogurt popsicles        my children and their friends ask for my homem...   \n",
      "i can t believe it s spinach                        these were so go, it surprised even me.   \n",
      "italian  gut busters                      my sister-in-law made these for us at a family...   \n",
      "love is in the air  beef fondue   sauces  i think a fondue is a very romantic casual din...   \n",
      "\n",
      "                                          n_ingredients  \n",
      "name                                                     \n",
      "george s at the cove  black bean soup              18.0  \n",
      "healthy for them  yogurt popsicles                  NaN  \n",
      "i can t believe it s spinach                        8.0  \n",
      "italian  gut busters                                NaN  \n",
      "love is in the air  beef fondue   sauces            NaN  \n"
     ]
    }
   ],
   "source": [
    "import xlwings as xw\n",
    "import pandas as pd\n",
    "\n",
    "# Загрузка данных из файла reviews_sample.csv\n",
    "reviews_df = pd.read_csv('data/reviews_sample.csv', index_col=0)\n",
    "\n",
    "# Загрузка данных из файла recipes_sample.csv\n",
    "recipes_df = pd.read_csv('data/recipes_sample.csv', index_col=0, usecols=['id', 'name', 'minutes', 'submitted', 'description', 'n_ingredients'])\n",
    "\n",
    "# Вывод первых нескольких строк каждого DataFrame для проверки\n",
    "print(reviews_df.head())\n",
    "print(recipes_df.head())"
   ]
  },
  {
   "cell_type": "markdown",
   "id": "eb6cedfd",
   "metadata": {},
   "source": [
    "2. Случайным образом выберите 5% строк из каждой таблицы и сохраните две таблицы на разные листы в один файл recipes.xlsx. Дайте листам названия \"Рецепты\" и \"Отзывы\", соответствующие содержанию таблиц."
   ]
  },
  {
   "cell_type": "code",
   "execution_count": 5,
   "id": "e643bed0",
   "metadata": {},
   "outputs": [],
   "source": [
    "# Загрузка данных из файла reviews_sample.csv\n",
    "reviews_df = pd.read_csv('data/reviews_sample.csv', index_col=0)\n",
    "\n",
    "# Загрузка данных из файла recipes_sample.csv\n",
    "recipes_df = pd.read_csv('data/recipes_sample.csv', index_col=0, usecols=['id', 'name', 'minutes', 'submitted', 'description', 'n_ingredients'])\n",
    "\n",
    "# Случайный выбор 5% строк из каждой таблицы\n",
    "reviews_sample = reviews_df.sample(frac=0.05)\n",
    "recipes_sample = recipes_df.sample(frac=0.05)\n",
    "\n",
    "# Создание Excel файла с двумя листами\n",
    "with pd.ExcelWriter('recipes.xlsx') as writer:\n",
    "    reviews_sample.to_excel(writer, sheet_name='Отзывы', index=False)\n",
    "    recipes_sample.to_excel(writer, sheet_name='Рецепты', index=False)\n"
   ]
  },
  {
   "cell_type": "markdown",
   "id": "4e9f28fe",
   "metadata": {},
   "source": [
    "3. Используя xlwings, добавьте на лист Рецепты столбец seconds_assign, показывающий время выполнения рецепта в секундах. Выполните задание при помощи присваивания массива значений диапазону ячеек."
   ]
  },
  {
   "cell_type": "code",
   "execution_count": 6,
   "id": "fe0b62fa",
   "metadata": {},
   "outputs": [],
   "source": [
    "# Добавление столбца seconds_assign с временем выполнения рецепта в секундах\n",
    "recipes_df['seconds_assign'] = recipes_df['minutes'] * 60\n",
    "\n",
    "# Открытие файла recipes.xlsx с помощью xlwings\n",
    "wb = xw.Book('recipes.xlsx')\n",
    "sheet = wb.sheets['Рецепты']\n",
    "\n",
    "# Присваивание массива значений столбца seconds_assign диапазону ячеек\n",
    "sheet.range('G1').value = 'seconds_assign'  # Заголовок столбца\n",
    "sheet.range('G2').options(index=False, header=False).value = recipes_df['seconds_assign']\n",
    "\n",
    "# Сохранение и закрытие файла\n",
    "wb.save()\n",
    "wb.close()"
   ]
  },
  {
   "cell_type": "markdown",
   "id": "3042db6b",
   "metadata": {},
   "source": [
    "4. Используя xlwings, добавьте на лист Рецепты столбец seconds_formula, показывающий время выполнения рецепта в секундах. Выполните задание при помощи формул Excel."
   ]
  },
  {
   "cell_type": "code",
   "execution_count": 7,
   "id": "7c4d7d3d",
   "metadata": {},
   "outputs": [
    {
     "name": "stdout",
     "output_type": "stream",
     "text": [
      "Done\n"
     ]
    }
   ],
   "source": [
    "# Открываем книгу Excel\n",
    "wb = xw.Book('recipes.xlsx')\n",
    "# Выбираем лист \"Рецепты\"\n",
    "sheet = wb.sheets['Рецепты']\n",
    "\n",
    "# Определяем количество рядов с данными (исключая заголовок)\n",
    "# Предполагается, что столбец с минутами находится в столбце \"C\"\n",
    "row_count = sheet.range('C2').expand('down').rows.count\n",
    "\n",
    "# Определяем позицию нового столбца для seconds_formula\n",
    "# Для простоты предполагаем, что последний заполненный столбец - это столбец перед \"C\"\n",
    "last_column = sheet.range('A1').expand('right').last_cell.column\n",
    "new_column_position = last_column + 1  # Новый столбец секунд идет после последнего заполненного\n",
    "\n",
    "# Добавляем заголовок нового столбца\n",
    "sheet.range(1, new_column_position).value = 'seconds_formula'\n",
    "\n",
    "# Добавляем формулу для конвертации минут в секунды в новый столбец для всех рядов\n",
    "start_row = 2  # Начало с 2-й строки, предполагая, что 1-я строка - заголовки\n",
    "for row in range(start_row, start_row + row_count):\n",
    "    # Формула умножает значение минут из столбца C на 60\n",
    "    sheet.range(row, new_column_position).formula = f'=C{row}*60'\n",
    "\n",
    "# Не забываем сохранить книгу, если это необходимо\n",
    "wb.save()\n",
    "wb.close()\n",
    "print('Done')"
   ]
  },
  {
   "cell_type": "markdown",
   "id": "3561e04b",
   "metadata": {},
   "source": [
    "5. Сделайте названия всех добавленных столбцов полужирными и выровняйте по центру ячейки."
   ]
  },
  {
   "cell_type": "code",
   "execution_count": null,
   "id": "78dd3980",
   "metadata": {},
   "outputs": [],
   "source": [
    "sheet.range('G1:H1').api.Font.Bold = True  # Делаем текст полужирным\n",
    "sheet.range('G1:H1').api.HorizontalAlignment = xw.constants.HAlign.xlHAlignCenter  # Выравниваем по центру\n",
    "sheet.range('G1:H1').column_width = 20  # изменим ширину ячейки для красоты"
   ]
  },
  {
   "cell_type": "markdown",
   "id": "2b7388a5",
   "metadata": {},
   "source": [
    "6. Раскрасьте ячейки столбца minutes в соответствии со следующим правилом: если рецепт выполняется быстрее 5 минут, то цвет - зеленый; от 5 до 10 минут - жёлтый; и больше 10 - красный."
   ]
  },
  {
   "cell_type": "code",
   "execution_count": null,
   "id": "514e935a",
   "metadata": {},
   "outputs": [],
   "source": [
    "# Подключение к активному файлу Excel\n",
    "wb = xw.Book()\n",
    "\n",
    "# Выбор листа \"Рецепты\"\n",
    "sheet = wb.sheets['Рецепты']\n",
    "\n",
    "# Определение последней строки в столбце minutes\n",
    "last_row = sheet.range('B' + str(sheet.cells.last_cell.row)).end('up').row\n",
    "\n",
    "# Цикл по строкам столбца minutes для раскраски ячеек\n",
    "for i in range(2, last_row+1):\n",
    "    time_value = sheet.range('B' + str(i)).value\n",
    "    if time_value < 5:\n",
    "        color = (0, 255, 0)  # Зеленый\n",
    "    elif 5 <= time_value <= 10:\n",
    "        color = (255, 255, 0)  # Желтый\n",
    "    else:\n",
    "        color = (255, 0, 0)  # Красный\n",
    "    sheet.range('B' + str(i)).color = color\n",
    "\n",
    "# Сохранение изменений\n",
    "wb.save()"
   ]
  },
  {
   "cell_type": "markdown",
   "id": "cf0057ce",
   "metadata": {},
   "source": [
    "7. Добавьте на лист Рецепты столбец n_reviews, содержащий кол-во отзывов для этого рецепта. Выполните задание при помощи формул Excel."
   ]
  },
  {
   "cell_type": "code",
   "execution_count": null,
   "id": "3cba6ee6",
   "metadata": {},
   "outputs": [],
   "source": [
    "wb = xw.Book('recipes_2.xlsx')\n",
    "sheet = wb.sheets['Рецепты']\n",
    "\n",
    "# Определяем количество строк в столбце с отзывами\n",
    "numrows = len(sheet.range('B1').expand('down').value)\n",
    "\n",
    "# Добавляем заголовок для столбца n_reviews\n",
    "sheet.range('I1').value = 'n_reviews'\n",
    "\n",
    "# Создаем формулу для расчета количества отзывов для каждого рецепта\n",
    "for i in range(2, numrows + 1):\n",
    "    sheet.range(f'I{i}').formula = f'=COUNTIF(Отзывы!C:C, B{i})'"
   ]
  },
  {
   "cell_type": "markdown",
   "id": "cbac3085",
   "metadata": {},
   "source": [
    "8. Напишите функцию validate(), которая проверяет соответствие всех строк из листа Отзывы следующим правилам:\n",
    "Рейтинг - это число от 0 до 5 включительно\n",
    "Соответствующий рецепт имеется на листе Рецепты\n",
    "В случае несоответствия этим правилам, выделите строку красным цветом"
   ]
  },
  {
   "cell_type": "code",
   "execution_count": null,
   "id": "ee3f18ea",
   "metadata": {},
   "outputs": [],
   "source": [
    "from openpyxl import load_workbook\n",
    "from openpyxl.styles import PatternFill\n",
    "\n",
    "def validate(file_path):\n",
    "    wb = load_workbook(file_path)\n",
    "    # Метод load_workbook загружает файл книги Excel для последующей работы с ним\n",
    "    sheet_reviews = wb['Отзывы']\n",
    "    sheet_recipes = wb['Рецепты']\n",
    "\n",
    "    # Устанавливаем красный цвет заливки\n",
    "    red_fill = PatternFill(start_color='FF0000', end_color='FF0000', fill_type='solid')\n",
    "    # Метод PatternFill позволяет задать заливку ячеек определенным узором или цветом.\n",
    "\n",
    "    # Перебираем строки листа Отзывы и проверяем правила\n",
    "    for idx, row in enumerate(sheet_reviews.iter_rows(min_row = 2, values_only = True), start = 2):\n",
    "        '''Метод .iter_rows(min_row=2, values_only=True) из библиотеки openpyxl используется для \n",
    "        итерации по строкам указанного листа Excel, начиная с заданной строки (в данном случае с 2 строки)\n",
    "        Параметр values_only=True указывает на то, что при итерации нужно получать только значения ячеек, а не объекты ячеек'''\n",
    "        recipe_id, rating = row[0], row[1]\n",
    "        if not (0 <= rating <= 5):\n",
    "            # Если рейтинг не в диапазоне от 0 до 5, выделяем строку красным\n",
    "            for cell in sheet_reviews.iter_rows(min_row = idx, max_row = idx, min_col = 1, max_col = len(row)):\n",
    "                '''min_row=idx: Этот параметр указывает начальную строку для итерации\n",
    "                   max_row=idx: Этот параметр указывает конечную строку для итерации\n",
    "                   min_col=1: Этот параметр указывает начальный столбец для итерации. Здесь мы начинаем с первого столбца\n",
    "                   max_col=len(row): Этот параметр указывает конечный столбец для итерации'''\n",
    "                for c in cell:\n",
    "                    c.fill = red_fill\n",
    "                    # .fill определяет заливку ячейки\n",
    "        elif recipe_id not in {recipe[0] for recipe in sheet_recipes.iter_rows(min_row = 2, max_col = 1, values_only = True)}:\n",
    "            # Если рецепт отсутствует на листе Рецепты, выделяем строку красным\n",
    "            for cell in sheet_reviews.iter_rows(min_row = idx, max_row = idx, min_col = 1, max_col = len(row)):\n",
    "                for c in cell:\n",
    "                    c.fill = red_fill\n",
    "\n",
    "    wb.save(file_path)\n",
    "\n",
    "# Пример использования функции\n",
    "validate('recipes.xlsx')"
   ]
  },
  {
   "cell_type": "markdown",
   "id": "ffb0a146",
   "metadata": {},
   "source": [
    "9. В файле recipes_model.csv находится модель данных предметной области \"рецепты\". При помощи пакета csv считайте эти данные. При помощи пакета xlwings запишите данные на лист Модель книги recipes_model.xlsx, начиная с ячейки A2, не используя циклы. Сделайте скриншот текущего состояния листа и прикрепите в ячейку ноутбука."
   ]
  },
  {
   "cell_type": "code",
   "execution_count": null,
   "id": "21615f26",
   "metadata": {},
   "outputs": [],
   "source": [
    "import csv \n",
    "\n",
    "recipes_model = []  # Создаем пустой список для хранения данных из CSV файла\n",
    "\n",
    "# Открываем CSV файл 'recipes_model.csv' для чтения с указанием кодировки\n",
    "with open('recipes_model.csv', 'r', encoding='utf-8') as file:\n",
    "    reader = csv.reader(file, delimiter='\\t')  # Создаем объект reader для чтения CSV файла с разделителем '\\t' (табуляция)\n",
    "    \n",
    "    # Проходимся по каждой строке в CSV файле\n",
    "    for row in reader:\n",
    "        recipes_model.append(row)  # Добавляем каждую строку в список recipes_model\n",
    "\n",
    "# Создаем новую книгу Excel\n",
    "wb2 = xw.Book()\n",
    "\n",
    "# Устанавливаем имя первого листа в книге Excel на 'Модель'\n",
    "wb2.sheets[0].name = 'Модель'\n",
    "\n",
    "# Записываем данные из списка recipes_model в ячейку A2 нового листа в книге Excel\n",
    "xw.Range('A2').value = recipes_model\n",
    "\n",
    "wb2.save('recipes_model.xlsx')"
   ]
  },
  {
   "cell_type": "markdown",
   "id": "e7d5f870",
   "metadata": {},
   "source": [
    "### 10. При помощи пакета xlwings добавьте в столбец J формулу для описания столбца на языке SQL. Формула должна реализовывать следующую логику:\n",
    "\n",
    " 1. в начале строки идут значения из столбцов В и C (значение столбца С приведено к верхнему регистру), разделенные пробелом\n",
    "\n",
    " 2. далее идут слова на основе столбца \"Ключ\" 2.1 если в столбце \"Ключ\" указано значение \"PK\", то дальше через пробел идет ключевое слово \"PRIMARY KEY\" 2.2 если в столбце \"Ключ\" указано значение \"FK\", то дальше через пробел идет ключевое слово \"REFERENCES\", затем значения столбцов H и I в формате \"название_таблицы(название_столбца)\"\n",
    "\n",
    " 3. если в столбце \"Обязательно к заполнению\" указано значение \"Y\" и в столбце \"Ключ\" указано не \"PK\", то дальше через пробел идет ключевое слово \"NOT NULL\".\n",
    "\n",
    "Заполните этой формулой необходимое количество строк, используя \"протягивание\". Количество строк для протягивания определите на основе данных."
   ]
  },
  {
   "cell_type": "code",
   "execution_count": null,
   "id": "530a272d",
   "metadata": {},
   "outputs": [],
   "source": [
    "import xlwings as xw\n",
    "\n",
    "# Открытие книги\n",
    "wb = xw.Book('recipes_model.xlsx')\n",
    "sheet = wb.sheets['Модель']\n",
    "\n",
    "# Добавление формулы в столбец J\n",
    "sheet.range('J2').formula = '=CONCATENATE(B2, \" \", UPPER(C2))'\n",
    "sheet.range('J2').api.AutoFill(sheet.range('J2:J{}'.format(sheet.cells.last_cell.row)).api, 1)\n",
    "\n",
    "# Сохранение и закрытие книги\n",
    "wb.save()\n",
    "wb.close()\n"
   ]
  },
  {
   "cell_type": "markdown",
   "id": "4036d4de",
   "metadata": {},
   "source": [
    "11. При помощи пакета xlwings измените стилизацию листа Модель.\n",
    "для заголовков добавьте заливку цвета 00ccff\n",
    "примените автоподбор ширины столбца;\n",
    "сделайте шрифт заголовков полужирным;\n",
    "добавьте таблице автофильтр."
   ]
  },
  {
   "cell_type": "code",
   "execution_count": null,
   "id": "4511ffeb",
   "metadata": {},
   "outputs": [],
   "source": [
    "xw.Range('A2').expand('down').color = (0, 204, 2)\n",
    "xw.Range('A2').expand().columns.autofit()\n",
    "xw.Range('A2').expand('down').font.bold = True\n",
    "xw.Range('A2').expand().api.AutoFilter(Field:=1)"
   ]
  },
  {
   "cell_type": "markdown",
   "id": "d3dbe67c",
   "metadata": {},
   "source": [
    "12. Посчитайте количество атрибутов для каждой из сущностей. Создайте лист Статистика и запишите в него результат группировки, начиная с ячейки \"А1\". Визуализируйте полученный результат при помощи столбчатой диаграммы. Сохраните полученную визуализацию на лист Статистика, начиная с ячейки \"E2\". Сделайте скриншот листа Статистика и прикрепите в ячейку ноутбука.\n",
    "Вы можете воспользоваться методами для визуализации, которые поставляются вместе с объектами pandas"
   ]
  },
  {
   "cell_type": "code",
   "execution_count": null,
   "id": "e34cc13d",
   "metadata": {},
   "outputs": [],
   "source": []
  }
 ],
 "metadata": {
  "kernelspec": {
   "display_name": "Python 3 (ipykernel)",
   "language": "python",
   "name": "python3"
  },
  "language_info": {
   "codemirror_mode": {
    "name": "ipython",
    "version": 3
   },
   "file_extension": ".py",
   "mimetype": "text/x-python",
   "name": "python",
   "nbconvert_exporter": "python",
   "pygments_lexer": "ipython3",
   "version": "3.11.5"
  }
 },
 "nbformat": 4,
 "nbformat_minor": 5
}
