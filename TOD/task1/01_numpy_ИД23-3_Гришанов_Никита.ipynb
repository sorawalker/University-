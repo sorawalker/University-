{
 "cells": [
  {
   "cell_type": "markdown",
   "metadata": {},
   "source": [
    "# Numpy"
   ]
  },
  {
   "cell_type": "markdown",
   "metadata": {},
   "source": [
    "Материалы:\n",
    "* Макрушин С.В. \"Лекция 1: Библиотека Numpy\"\n",
    "* https://numpy.org/doc/stable/user/index.html\n",
    "* https://numpy.org/doc/stable/reference/index.html"
   ]
  },
  {
   "cell_type": "markdown",
   "metadata": {},
   "source": [
    "## Задачи для совместного разбора"
   ]
  },
  {
   "cell_type": "markdown",
   "metadata": {},
   "source": [
    "1. Сгенерировать двухмерный массив `arr` размерности (4, 7), состоящий из случайных действительных чисел, равномерно распределенных в диапазоне от 0 до 20. Нормализовать значения массива с помощью преобразования вида  $𝑎𝑥+𝑏$  так, что после нормализации максимальный элемент масcива будет равен 1.0, минимальный 0.0"
   ]
  },
  {
   "cell_type": "code",
   "execution_count": 5,
   "metadata": {},
   "outputs": [
    {
     "data": {
      "text/plain": [
       "array([[0.79990246, 1.        , 0.73942941, 0.73708851, 0.67373811,\n",
       "        0.77117776, 0.70534016],\n",
       "       [0.52162887, 0.60409656, 0.8405267 , 0.97229944, 0.9267008 ,\n",
       "        0.53182151, 0.96620337],\n",
       "       [0.10870519, 0.85740063, 0.57854182, 0.79141673, 0.9931724 ,\n",
       "        0.11558157, 0.94415996],\n",
       "       [0.38405267, 0.017703  , 0.28710071, 0.58517435, 0.        ,\n",
       "        0.95176786, 0.85886369]])"
      ]
     },
     "execution_count": 5,
     "metadata": {},
     "output_type": "execute_result"
    }
   ],
   "source": [
    "import numpy as np\n",
    "arr = np.random.uniform(0, 21, size = (4,7)).round(3)\n",
    "min_val = arr.min()\n",
    "max_val = arr.max()\n",
    "a = 1/(max_val-min_val)\n",
    "b = -a * min_val\n",
    "ans = a*arr+b\n",
    "ans"
   ]
  },
  {
   "cell_type": "markdown",
   "metadata": {},
   "source": [
    "2. Создать матрицу 8 на 10 из случайных целых (используя модуль `numpy.random`) чисел из диапозона от 0 до 10 и найти в ней строку (ее индекс и вывести саму строку), в которой сумма значений минимальна."
   ]
  },
  {
   "cell_type": "code",
   "execution_count": 8,
   "metadata": {},
   "outputs": [
    {
     "data": {
      "text/plain": [
       "(array([[ 3, 10,  4, 10,  5,  5,  4,  6,  4,  2],\n",
       "        [ 0, 10,  7,  7,  0,  0,  7,  7,  3,  9],\n",
       "        [ 9,  0,  4,  9,  9,  6,  0,  1,  9,  1],\n",
       "        [ 4,  3,  9,  2, 10,  6,  0,  6,  5,  2],\n",
       "        [ 0,  6,  5,  5,  2,  8,  5,  5,  2,  6],\n",
       "        [ 2,  2,  2,  7,  0, 10,  1,  7, 10,  0],\n",
       "        [ 1,  3,  0,  8,  6,  7,  5, 10,  8,  9],\n",
       "        [ 8,  8,  5,  1,  7,  9,  8,  6,  0,  2]]),\n",
       " array([ 2,  2,  2,  7,  0, 10,  1,  7, 10,  0]))"
      ]
     },
     "execution_count": 8,
     "metadata": {},
     "output_type": "execute_result"
    }
   ],
   "source": [
    "arr = np.random.randint(0, 11, (8,10))\n",
    "index = np.argmin(np.sum(arr, axis = 1))\n",
    "arr,arr[index]"
   ]
  },
  {
   "cell_type": "markdown",
   "metadata": {},
   "source": [
    "3. Найти евклидово расстояние между двумя одномерными векторами одинаковой размерности."
   ]
  },
  {
   "cell_type": "code",
   "execution_count": 9,
   "metadata": {},
   "outputs": [
    {
     "data": {
      "text/plain": [
       "6.324555320336759"
      ]
     },
     "execution_count": 9,
     "metadata": {},
     "output_type": "execute_result"
    }
   ],
   "source": [
    "vector1 = np.array([1, 2, 3, 4, 5])\n",
    "vector2 = np.array([5, 4, 3, 2, 1])\n",
    "\n",
    "ans = np.linalg.norm(vector1 - vector2)\n",
    "ans"
   ]
  },
  {
   "cell_type": "markdown",
   "metadata": {},
   "source": [
    "4. Решить матричное уравнение `A*X*B=-C` - найти матрицу `X`. Где `A = [[-1, 2, 4], [-3, 1, 2], [-3, 0, 1]]`, `B=[[3, -1], [2, 1]]`, `C=[[7, 21], [11, 8], [8, 4]]`."
   ]
  },
  {
   "cell_type": "code",
   "execution_count": 10,
   "metadata": {},
   "outputs": [
    {
     "data": {
      "text/plain": [
       "array([[ 1.00000000e+00,  1.11022302e-15],\n",
       "       [-2.00000000e+00,  1.00000000e+00],\n",
       "       [ 3.00000000e+00, -4.00000000e+00]])"
      ]
     },
     "execution_count": 10,
     "metadata": {},
     "output_type": "execute_result"
    }
   ],
   "source": [
    "A = np.array([[-1, 2, 4], [-3, 1, 2], [-3, 0, 1]])\n",
    "B=np.array([[3, -1], [2, 1]])\n",
    "C=np.array([[7, 21], [11, 8], [8, 4]])\n",
    "A_1 = np.linalg.inv(A)\n",
    "B_1 = np.linalg.inv(B)\n",
    "C_1 = -1*C\n",
    "A_1 @ C_1 @ B_1"
   ]
  },
  {
   "cell_type": "markdown",
   "metadata": {},
   "source": [
    "## Лабораторная работа №1"
   ]
  },
  {
   "cell_type": "markdown",
   "metadata": {},
   "source": [
    "Замечание: при решении данных задач не подразумевается использования циклов или генераторов Python, если в задании не сказано обратного. Решение должно опираться на использования функционала библиотеки `numpy`."
   ]
  },
  {
   "cell_type": "markdown",
   "metadata": {},
   "source": [
    "1. Файл `minutes_n_ingredients.csv` содержит информацию об идентификаторе рецепта, времени его выполнения в минутах и количестве необходимых ингредиентов. Считайте данные из этого файла в виде массива `numpy` типа `int32`, используя `np.loadtxt`. Выведите на экран первые 5 строк массива."
   ]
  },
  {
   "cell_type": "code",
   "execution_count": 77,
   "metadata": {},
   "outputs": [
    {
     "data": {
      "text/plain": [
       "array([[127244,     60,     16],\n",
       "       [ 23891,     25,      7],\n",
       "       [ 94746,     10,      6],\n",
       "       [ 67660,      5,      6],\n",
       "       [157911,     60,     14]])"
      ]
     },
     "execution_count": 77,
     "metadata": {},
     "output_type": "execute_result"
    }
   ],
   "source": [
    "data = np.loadtxt('minutes_n_ingredients.csv',delimiter=',',dtype=np.int32,skiprows=1)\n",
    "data[:5]"
   ]
  },
  {
   "cell_type": "markdown",
   "metadata": {},
   "source": [
    "2. Вычислите среднее значение, минимум, максимум и медиану по каждому из столбцов, кроме первого."
   ]
  },
  {
   "cell_type": "code",
   "execution_count": 28,
   "metadata": {},
   "outputs": [
    {
     "name": "stdout",
     "output_type": "stream",
     "text": [
      "Минимальный для 2 столбца: 0\n",
      "Максимальный для 2 столбца: 2147483647\n",
      "Медиана для 2 столбца: 40.0\n",
      "Среднее для 2 столбца: 21601.00169\n",
      "Минимальный для 3 столбца: 1\n",
      "Максимальный для 3 столбца: 39\n",
      "Медиана для 3 столбца: 9.0\n",
      "Среднее для 3 столбца: 9.05528\n"
     ]
    }
   ],
   "source": [
    "minutes_min = np.min(data[:,1])\n",
    "minutes_max = np.max(data[:,1])\n",
    "median_first = np.median(data[:,1])\n",
    "average_first = np.mean(data[:,1])\n",
    "print('Минимальный для 2 столбца:', minutes_min)\n",
    "print('Максимальный для 2 столбца:', minutes_max)\n",
    "print('Медиана для 2 столбца:', median_first)\n",
    "print('Среднее для 2 столбца:', average_first)\n",
    "ing_min = np.min(data[:,2])\n",
    "ing_max = np.max(data[:,2])\n",
    "median_second = np.median(data[:,2])\n",
    "average_second = np.mean(data[:,2])\n",
    "print('Минимальный для 3 столбца:', ing_min)\n",
    "print('Максимальный для 3 столбца:', ing_max)\n",
    "print('Медиана для 3 столбца:', median_second)\n",
    "print('Среднее для 3 столбца:', average_second)"
   ]
  },
  {
   "cell_type": "markdown",
   "metadata": {},
   "source": [
    "3. Ограничьте сверху значения продолжительности выполнения рецепта значением квантиля $q_{0.75}$. "
   ]
  },
  {
   "cell_type": "code",
   "execution_count": 32,
   "metadata": {},
   "outputs": [],
   "source": [
    "quantile_value = np.quantile(data[:, 1], 0.75)\n",
    "data[:, 1] = np.minimum(data[:, 1], quantile_value)"
   ]
  },
  {
   "cell_type": "markdown",
   "metadata": {},
   "source": [
    "4. Посчитайте, для скольких рецептов указана продолжительность, равная нулю. Замените для таких строк значение в данном столбце на 1."
   ]
  },
  {
   "cell_type": "code",
   "execution_count": 78,
   "metadata": {},
   "outputs": [
    {
     "name": "stdout",
     "output_type": "stream",
     "text": [
      "479\n"
     ]
    }
   ],
   "source": [
    "print(np.count_nonzero(data[:, 1] == 0))\n",
    "data[:,1][data[:,1] == 0] = 1"
   ]
  },
  {
   "cell_type": "markdown",
   "metadata": {},
   "source": [
    "5. Посчитайте, сколько уникальных рецептов находится в датасете."
   ]
  },
  {
   "cell_type": "code",
   "execution_count": 79,
   "metadata": {},
   "outputs": [
    {
     "data": {
      "text/plain": [
       "100000"
      ]
     },
     "execution_count": 79,
     "metadata": {},
     "output_type": "execute_result"
    }
   ],
   "source": [
    "np.unique(data[:,0]).size"
   ]
  },
  {
   "cell_type": "markdown",
   "metadata": {},
   "source": [
    "6. Сколько и каких различных значений кол-ва ингредиентов присутвует в рецептах из датасета?"
   ]
  },
  {
   "cell_type": "code",
   "execution_count": 84,
   "metadata": {},
   "outputs": [
    {
     "name": "stdout",
     "output_type": "stream",
     "text": [
      "37\n",
      "[ 1  2  3  4  5  6  7  8  9 10 11 12 13 14 15 16 17 18 19 20 21 22 23 24\n",
      " 25 26 27 28 29 30 31 32 33 34 35 37 39]\n"
     ]
    }
   ],
   "source": [
    "unique_ing = np.unique(data[:,2])\n",
    "print(unique_ing.size)\n",
    "print(unique_ing)"
   ]
  },
  {
   "cell_type": "markdown",
   "metadata": {},
   "source": [
    "7. Создайте версию массива, содержащую информацию только о рецептах, состоящих не более чем из 5 ингредиентов."
   ]
  },
  {
   "cell_type": "code",
   "execution_count": 86,
   "metadata": {},
   "outputs": [
    {
     "data": {
      "text/plain": [
       "array([[446597,     15,      5],\n",
       "       [204134,      5,      3],\n",
       "       [ 25623,      6,      4],\n",
       "       ...,\n",
       "       [ 52088,     60,      5],\n",
       "       [128811,     15,      4],\n",
       "       [370915,      5,      4]])"
      ]
     },
     "execution_count": 86,
     "metadata": {},
     "output_type": "execute_result"
    }
   ],
   "source": [
    "data[data[:,2]<=5]"
   ]
  },
  {
   "cell_type": "markdown",
   "metadata": {},
   "source": [
    "8. Для каждого рецепта посчитайте, сколько в среднем ингредиентов приходится на одну минуту рецепта. Найдите максимальное значение этой величины для всего датасета"
   ]
  },
  {
   "cell_type": "code",
   "execution_count": 100,
   "metadata": {},
   "outputs": [
    {
     "data": {
      "text/plain": [
       "24.0"
      ]
     },
     "execution_count": 100,
     "metadata": {},
     "output_type": "execute_result"
    }
   ],
   "source": [
    "average_ing = data[:, 2] / data[:, 1]\n",
    "np.max(average_ing)"
   ]
  },
  {
   "cell_type": "markdown",
   "metadata": {},
   "source": [
    "9. Вычислите среднее количество ингредиентов для топ-100 рецептов с наибольшей продолжительностью"
   ]
  },
  {
   "cell_type": "code",
   "execution_count": 99,
   "metadata": {},
   "outputs": [
    {
     "data": {
      "text/plain": [
       "28.22"
      ]
     },
     "execution_count": 99,
     "metadata": {},
     "output_type": "execute_result"
    }
   ],
   "source": [
    "np.mean(np.sort(data[:,2])[::-1][:100])"
   ]
  },
  {
   "cell_type": "markdown",
   "metadata": {},
   "source": [
    "10. Выберите случайным образом и выведите информацию о 10 различных рецептах"
   ]
  },
  {
   "cell_type": "code",
   "execution_count": 134,
   "metadata": {},
   "outputs": [
    {
     "data": {
      "text/plain": [
       "array([[417903,     75,      6],\n",
       "       [117802,     15,      9],\n",
       "       [ 76244,     25,      6],\n",
       "       [122767,    140,     12],\n",
       "       [433508,     55,     10],\n",
       "       [136111,     25,      4],\n",
       "       [267210,    150,      6],\n",
       "       [139797,     20,      9],\n",
       "       [ 19270,     45,     11],\n",
       "       [173964,     15,      8]])"
      ]
     },
     "execution_count": 134,
     "metadata": {},
     "output_type": "execute_result"
    }
   ],
   "source": [
    "np.random.default_rng().choice(data, 10)"
   ]
  },
  {
   "cell_type": "markdown",
   "metadata": {},
   "source": [
    "11. Выведите процент рецептов, кол-во ингредиентов в которых меньше среднего."
   ]
  },
  {
   "cell_type": "code",
   "execution_count": 135,
   "metadata": {},
   "outputs": [
    {
     "data": {
      "text/plain": [
       "58.802"
      ]
     },
     "execution_count": 135,
     "metadata": {},
     "output_type": "execute_result"
    }
   ],
   "source": [
    "np.mean(data[:,2]<np.mean(data[:,2]))*100"
   ]
  },
  {
   "cell_type": "markdown",
   "metadata": {},
   "source": [
    "12. Назовем \"простым\" такой рецепт, длительность выполнения которого не больше 20 минут и кол-во ингредиентов в котором не больше 5. Создайте версию датасета с дополнительным столбцом, значениями которого являются 1, если рецепт простой, и 0 в противном случае."
   ]
  },
  {
   "cell_type": "code",
   "execution_count": 143,
   "metadata": {},
   "outputs": [],
   "source": [
    "simple = (data[:,1]<=20) & (data[:,2]<=5)\n",
    "simple_data = np.column_stack((data,simple))"
   ]
  },
  {
   "cell_type": "markdown",
   "metadata": {},
   "source": [
    "13. Выведите процент \"простых\" рецептов в датасете"
   ]
  },
  {
   "cell_type": "code",
   "execution_count": 182,
   "metadata": {},
   "outputs": [
    {
     "data": {
      "text/plain": [
       "9.552"
      ]
     },
     "execution_count": 182,
     "metadata": {},
     "output_type": "execute_result"
    }
   ],
   "source": [
    "np.mean(simple_data[:,3]==1)*100"
   ]
  },
  {
   "cell_type": "markdown",
   "metadata": {},
   "source": [
    "14. Разделим рецепты на группы по следующему правилу. Назовем рецепты короткими, если их продолжительность составляет менее 10 минут; стандартными, если их продолжительность составляет более 10, но менее 20 минут; и длинными, если их продолжительность составляет не менее 20 минут. Создайте трехмерный массив, где нулевая ось отвечает за номер группы (короткий, стандартный или длинный рецепт), первая ось - за сам рецепт и вторая ось - за характеристики рецепта. Выберите максимальное количество рецептов из каждой группы таким образом, чтобы было возможно сформировать трехмерный массив. Выведите форму полученного массива."
   ]
  },
  {
   "cell_type": "code",
   "execution_count": 315,
   "metadata": {},
   "outputs": [
    {
     "data": {
      "text/plain": [
       "(3, 79751, 2)"
      ]
     },
     "execution_count": 315,
     "metadata": {},
     "output_type": "execute_result"
    }
   ],
   "source": [
    "short = np.column_stack((np.full((data[data[:,1]<=10][:,0].size,1),0),data[data[:,1]<=10]))\n",
    "standart = np.column_stack((np.full((data[(data[:,1]>10) &(data[:,1]<20)][:,0].size,1),1),data[(data[:,1]>10) &(data[:,1]<20)]))\n",
    "long = np.column_stack((np.full((data[data[:,1]>=20][:,0].size,1),2),data[data[:,1]>=20]))\n",
    "new_data = np.ndarray((3, np.max([short[:,0].size, standart[:,0].size, long[:,0].size]), 2))\n",
    "new_data[0, :short[:,0].size] = short[:,2:4]\n",
    "new_data[1, :standart[:,0].size] = standart[:,2:4]\n",
    "new_data[2, :long[:,0].size] = long[:,2:4]\n",
    "new_data.shape\n"
   ]
  },
  {
   "cell_type": "code",
   "execution_count": null,
   "metadata": {},
   "outputs": [],
   "source": []
  },
  {
   "cell_type": "code",
   "execution_count": null,
   "metadata": {},
   "outputs": [],
   "source": []
  }
 ],
 "metadata": {
  "kernelspec": {
   "display_name": "Python 3 (ipykernel)",
   "language": "python",
   "name": "python3"
  },
  "language_info": {
   "codemirror_mode": {
    "name": "ipython",
    "version": 3
   },
   "file_extension": ".py",
   "mimetype": "text/x-python",
   "name": "python",
   "nbconvert_exporter": "python",
   "pygments_lexer": "ipython3",
   "version": "3.11.5"
  }
 },
 "nbformat": 4,
 "nbformat_minor": 4
}
