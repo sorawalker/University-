{
  "nbformat": 4,
  "nbformat_minor": 0,
  "metadata": {
    "colab": {
      "provenance": []
    },
    "kernelspec": {
      "name": "python3",
      "display_name": "Python 3"
    },
    "language_info": {
      "name": "python"
    }
  },
  "cells": [
    {
      "cell_type": "code",
      "source": [
        "l1 = ['1', '123', '123', '12', '1', '123']\n",
        "l2 = [2, 4, -2, -3, 0 , 11 , 3 - 1]\n",
        "d4 = {1: 10, 2: 20, 3: 30, 4: 40, 5: 50, 6: 60}\n",
        "d5 = {'a': 3, 'b': 4, 'c': 5, 'd': 6, 'e': 7, 'f': 8, 'g': 9}\n",
        "d6 = {'e': 20, 'f': 21, 'g': 22, 'h': 23, 'i': 24, 'j': 25, 'k': 26, 'l': 27}\n"
      ],
      "metadata": {
        "id": "vk9bgbApnnf7"
      },
      "execution_count": null,
      "outputs": []
    },
    {
      "cell_type": "markdown",
      "source": [
        "4.13) Используюя список l1 создать список, в ктором каждый элемент списка l1 будет заменен значением длинны строки соответствующего элемента в списке l1. Использовать генераторы, решить задачу в одну строку.\n"
      ],
      "metadata": {
        "id": "mA12SK_dnFVC"
      }
    },
    {
      "cell_type": "code",
      "source": [
        "[len(el) for el in l1]"
      ],
      "metadata": {
        "colab": {
          "base_uri": "https://localhost:8080/"
        },
        "id": "znOJObygniuv",
        "outputId": "15c26d4f-3369-4d81-b526-17c4666fa549"
      },
      "execution_count": null,
      "outputs": [
        {
          "output_type": "execute_result",
          "data": {
            "text/plain": [
              "[1, 3, 3, 2, 1, 3]"
            ]
          },
          "metadata": {},
          "execution_count": 3
        }
      ]
    },
    {
      "cell_type": "markdown",
      "source": [
        "4.14) Подсчитать количество строк в списке l1, длина которых больше 2х. Использовать генераторы, решить задачу в одну строку.\n"
      ],
      "metadata": {
        "id": "ngcSHHmfn9eX"
      }
    },
    {
      "cell_type": "code",
      "source": [
        "len([el for el in l1 if len(el)>2])"
      ],
      "metadata": {
        "colab": {
          "base_uri": "https://localhost:8080/"
        },
        "id": "AGHyhjCroTc5",
        "outputId": "98174c82-4b91-4165-b6a3-53847af533f5"
      },
      "execution_count": null,
      "outputs": [
        {
          "output_type": "execute_result",
          "data": {
            "text/plain": [
              "3"
            ]
          },
          "metadata": {},
          "execution_count": 4
        }
      ]
    },
    {
      "cell_type": "markdown",
      "source": [
        "4.15) Просуммировать произведение ключей на значения словаря d4.\n"
      ],
      "metadata": {
        "id": "tp-U_IDJow7H"
      }
    },
    {
      "cell_type": "code",
      "source": [
        "sum([key * value for key,value in d4.items()])"
      ],
      "metadata": {
        "colab": {
          "base_uri": "https://localhost:8080/"
        },
        "id": "V50SsocepEeF",
        "outputId": "90bdc366-4388-4d21-fcf1-40a42b5ca1a7"
      },
      "execution_count": null,
      "outputs": [
        {
          "output_type": "execute_result",
          "data": {
            "text/plain": [
              "910"
            ]
          },
          "metadata": {},
          "execution_count": 5
        }
      ]
    },
    {
      "cell_type": "markdown",
      "source": [
        "4.16) На базе словаря d6 составить словарь d7 в котором нет пар ключ-значение с ключами, встречающимися в словаре d5. Использовать генераторы, решить задачу в одну строку.\n"
      ],
      "metadata": {
        "id": "r50tEJ9Ypmmb"
      }
    },
    {
      "cell_type": "code",
      "source": [
        "dict([item for item in d6.items() if not item[0] in d5.keys()])"
      ],
      "metadata": {
        "colab": {
          "base_uri": "https://localhost:8080/"
        },
        "id": "vHw3NCdqpti5",
        "outputId": "0931174a-c115-4b23-8f59-a6af11bfd1c9"
      },
      "execution_count": null,
      "outputs": [
        {
          "output_type": "execute_result",
          "data": {
            "text/plain": [
              "{'h': 23, 'i': 24, 'j': 25, 'k': 26, 'l': 27}"
            ]
          },
          "metadata": {},
          "execution_count": 8
        }
      ]
    },
    {
      "cell_type": "markdown",
      "source": [
        "4.17) Создать список, в котором все числа списка l2 умножены на их номер в списке, остальные элементы сохранены на своих местах. Использовать генераторы, решить задачу в одну строку.\n"
      ],
      "metadata": {
        "id": "hUFwEHhYqSym"
      }
    },
    {
      "cell_type": "code",
      "source": [
        "[l2[i]*(i+1) for i in range(len(l2))]"
      ],
      "metadata": {
        "colab": {
          "base_uri": "https://localhost:8080/"
        },
        "id": "O1pix83kqWpX",
        "outputId": "93185fa8-0da3-42ca-839a-ce3a7447fb37"
      },
      "execution_count": null,
      "outputs": [
        {
          "output_type": "execute_result",
          "data": {
            "text/plain": [
              "[2, 8, -6, -12, 0, 66, 14]"
            ]
          },
          "metadata": {},
          "execution_count": 5
        }
      ]
    },
    {
      "cell_type": "markdown",
      "source": [
        "4.18) Создать список, в котором все отрицательные числа списка l2 исключены, остальные элементы сохранены на своих местах. Использовать генераторы, решить задачу в одну строку.\n",
        "\n"
      ],
      "metadata": {
        "id": "dLOTEne9sZSS"
      }
    },
    {
      "cell_type": "code",
      "source": [
        "[i for i in l2 if i>=0]"
      ],
      "metadata": {
        "colab": {
          "base_uri": "https://localhost:8080/"
        },
        "id": "XTXanC3fsdC0",
        "outputId": "e1258b39-a779-4333-e635-2a6105ad82bc"
      },
      "execution_count": null,
      "outputs": [
        {
          "output_type": "execute_result",
          "data": {
            "text/plain": [
              "[2, 4, 0, 11, 3]"
            ]
          },
          "metadata": {},
          "execution_count": 13
        }
      ]
    },
    {
      "cell_type": "markdown",
      "source": [
        "4.19) Создать список, в котором все отрицательные числа списка l2 заменены на их номер в списке, остальные элементы сохранены на своих местах. Использовать генераторы и тернарный оператор, решить задачу в одну строку.\n",
        "\n"
      ],
      "metadata": {
        "id": "Z6u33SZpsqEO"
      }
    },
    {
      "cell_type": "code",
      "source": [
        "[(lambda x: x if x >= 0 else i+1)(l2[i]) for i in range(len(l2))]"
      ],
      "metadata": {
        "colab": {
          "base_uri": "https://localhost:8080/"
        },
        "id": "xE9MOH_xsvQy",
        "outputId": "63f2f71d-fa6a-4b15-fe9b-4a54b4e5e4b3"
      },
      "execution_count": null,
      "outputs": [
        {
          "output_type": "execute_result",
          "data": {
            "text/plain": [
              "[2, 4, 3, 4, 0, 11, 2]"
            ]
          },
          "metadata": {},
          "execution_count": 7
        }
      ]
    },
    {
      "cell_type": "markdown",
      "source": [
        "5.1) Написать задокументированную функцию умножения двух чисел. Для каких типов данная функция будет возвращать практически ценный результат? Написать примеры использования этой функции.\n"
      ],
      "metadata": {
        "id": "g5bZ46P0s_4q"
      }
    },
    {
      "cell_type": "code",
      "source": [
        "def multiply(first: int | float, second: int | float) -> int | float:\n",
        "  \"\"\"\n",
        "  Функция умножения двух чисел\n",
        "  :param first: первое число\n",
        "  :param second: первое число\n",
        "  :return: результат умножения\n",
        "  \"\"\"\n",
        "  return first * second\n",
        "\n",
        "print(f'int * int {multiply(2,3)}')\n",
        "print(f'int * float {multiply(2,3.51515)}')\n",
        "print(f'float * float {multiply(2.5251,3.5151)}')"
      ],
      "metadata": {
        "colab": {
          "base_uri": "https://localhost:8080/"
        },
        "id": "WBVUweTNtGkL",
        "outputId": "dd5c7bb9-028e-41b1-e3a0-5cb0c3be2d2c"
      },
      "execution_count": null,
      "outputs": [
        {
          "output_type": "stream",
          "name": "stdout",
          "text": [
            "int * int 6\n",
            "int * float 7.0303\n",
            "float * float 8.87597901\n"
          ]
        }
      ]
    },
    {
      "cell_type": "markdown",
      "source": [
        "5.2) Написать функцию умножения принимающую от одного до трех параметров. Написать примеры использования этой функции с разным количеством параметров.\n"
      ],
      "metadata": {
        "id": "-Y689O_su0_e"
      }
    },
    {
      "cell_type": "code",
      "source": [
        "def multiply_args(*args):\n",
        "  if len(args)<1 or len(args)>3:\n",
        "    return 'Указано неверное количество аргументов'\n",
        "  res = 1\n",
        "  for arg in args:\n",
        "    res *= arg\n",
        "  return res\n",
        "\n",
        "print(multiply_args(2,4,7))\n",
        "print(multiply_args(4,7))\n",
        "print(multiply_args(2))\n",
        "print(multiply_args())\n",
        "print(multiply_args(2,4,7,5))"
      ],
      "metadata": {
        "colab": {
          "base_uri": "https://localhost:8080/"
        },
        "id": "eR0fr0n7t6G6",
        "outputId": "5c61ab09-2d07-4a5b-a363-d605cd97b1aa"
      },
      "execution_count": null,
      "outputs": [
        {
          "output_type": "stream",
          "name": "stdout",
          "text": [
            "56\n",
            "28\n",
            "2\n",
            "Указано неверное количество аргументов\n",
            "Указано неверное количество аргументов\n"
          ]
        }
      ]
    },
    {
      "cell_type": "markdown",
      "source": [
        "5.3) Функцию из задания 2 вызвать с приведенными ниже аргументами. Для случая a4 выбрать 3 первых и 3 последних значения.\n"
      ],
      "metadata": {
        "id": "nOKFWmmgyXf2"
      }
    },
    {
      "cell_type": "code",
      "source": [
        "a1 = (15, 10 ,5)\n",
        "a2 = (3, 1)\n",
        "a3 = [2, 35, 55]\n",
        "a4 = (5, 10 ,15, 20)\n",
        "\n",
        "print(f'a1 - {multiply_args(*a1)}')\n",
        "print(f'a2 - {multiply_args(*a2)}')\n",
        "print(f'a3 - {multiply_args(*a3)}')\n",
        "print(f'a4 - {multiply_args(*a4[:3])}')\n",
        "print(f'a5 - {multiply_args(*a4[1:])}')"
      ],
      "metadata": {
        "colab": {
          "base_uri": "https://localhost:8080/"
        },
        "id": "iI9UX1EUyaHZ",
        "outputId": "ed435e10-6fa0-46f1-885f-334f96e10884"
      },
      "execution_count": null,
      "outputs": [
        {
          "output_type": "stream",
          "name": "stdout",
          "text": [
            "a1 - 750\n",
            "a2 - 3\n",
            "a3 - 3850\n",
            "a4 - 750\n",
            "a5 - 3000\n"
          ]
        }
      ]
    },
    {
      "cell_type": "markdown",
      "source": [
        "5.4) Реализовать функцию умножения, принимающую неограниченное количество значений. Написать примеры использования этой функции, в том числе с аргументами из задания 3.\n",
        "\n"
      ],
      "metadata": {
        "id": "sq_YHbS5FLet"
      }
    },
    {
      "cell_type": "code",
      "source": [
        "def multiply_much_args(*args):\n",
        "  res = 1\n",
        "  for arg in args:\n",
        "    res *= arg\n",
        "\n",
        "  return res\n",
        "\n",
        "print(f'a1 - {multiply_much_args(*a1)}')\n",
        "print(f'a2 - {multiply_much_args(*a2)}')\n",
        "print(f'a3 - {multiply_much_args(*a3)}')\n",
        "print(f'a4 - {multiply_much_args(*a4[:3])}')\n",
        "print(f'a5 - {multiply_much_args(*a4[1:])}')\n",
        "print(f'args - {multiply_much_args(1,4,6,7,8,9,4,6,8,9,9)}')"
      ],
      "metadata": {
        "colab": {
          "base_uri": "https://localhost:8080/"
        },
        "id": "GPJVsBhaFYs4",
        "outputId": "d1de0d34-9f85-4690-d995-fc9b52d73d8e"
      },
      "execution_count": null,
      "outputs": [
        {
          "output_type": "stream",
          "name": "stdout",
          "text": [
            "a1 - 750\n",
            "a2 - 3\n",
            "a3 - 3850\n",
            "a4 - 750\n",
            "a5 - 3000\n",
            "args - 188116992\n"
          ]
        }
      ]
    },
    {
      "cell_type": "markdown",
      "source": [
        "5.5) Реализовать функции для выполнения четырех арифмитических операций преобразующих целые числа в целое число. Для двух заранее заданных целых чисел выполнить выбранную пользователем арифметическую операцию.\n"
      ],
      "metadata": {
        "id": "YMNYWDFsEh5H"
      }
    },
    {
      "cell_type": "code",
      "source": [
        "def summ(*args):\n",
        "  res = 0\n",
        "  for arg in args:\n",
        "    res += arg\n",
        "  return res\n",
        "\n",
        "def multiply(*args):\n",
        "  res = 1\n",
        "  for arg in args:\n",
        "    res *= arg\n",
        "  return res\n",
        "\n",
        "def diff(*args):\n",
        "  res = args[0]\n",
        "  for i in range(1,len(args)):\n",
        "    res -= args[i]\n",
        "  return res\n",
        "\n",
        "def div(*args):\n",
        "  res = args[0]\n",
        "  for i in range(1,len(args)):\n",
        "    res //= args[i]\n",
        "  return res\n",
        "\n",
        "a = [10, 5 ]\n",
        "command = input('1 - сумма 2 - произведение 3 - разность 4 - частное  ')\n",
        "if command == '1':\n",
        "  print(summ(*a))\n",
        "elif command == '2':\n",
        "  print(multiply(*a))\n",
        "elif command == '3':\n",
        "  print(diff(*a))\n",
        "elif command == '4':\n",
        "  print(div(*a))\n",
        "else:\n",
        "  print('Неизвестная комманда')\n"
      ],
      "metadata": {
        "colab": {
          "base_uri": "https://localhost:8080/"
        },
        "id": "G_yLYRuKEi0o",
        "outputId": "d10a5bc8-76d7-472e-e037-a958caf1c4f5"
      },
      "execution_count": null,
      "outputs": [
        {
          "output_type": "stream",
          "name": "stdout",
          "text": [
            "1 - сумма 2 - произведение 3 - разность 4 - частное  4\n",
            "2\n"
          ]
        }
      ]
    },
    {
      "cell_type": "markdown",
      "source": [
        "5.6) Написать калькулятор для строковых выражений вида '<число> <операция> <число>', где <число> - целое число, например 113, <арифмитическая операция> - одна из операций +,-,*,/(деление нацело),%(остаток от деления),^(возведение в степень). Пример calc('13 - 5') -> 8\n"
      ],
      "metadata": {
        "id": "aZ3v6ft9IcBk"
      }
    },
    {
      "cell_type": "code",
      "source": [
        "def calc(data):\n",
        "  return eval(data)\n",
        "\n",
        "expr = input().replace('^','**')\n",
        "calc(expr)"
      ],
      "metadata": {
        "colab": {
          "base_uri": "https://localhost:8080/"
        },
        "id": "m0bu5SGiIiUb",
        "outputId": "640bd814-90ed-482d-bd03-904bfefdb410"
      },
      "execution_count": null,
      "outputs": [
        {
          "name": "stdout",
          "output_type": "stream",
          "text": [
            "2^5\n"
          ]
        },
        {
          "output_type": "execute_result",
          "data": {
            "text/plain": [
              "32"
            ]
          },
          "metadata": {},
          "execution_count": 15
        }
      ]
    },
    {
      "cell_type": "markdown",
      "source": [
        "5.7) Реализовать функцию которая выводит на экран сообщение вида:\n",
        "'Автомобиль марки: BMW, модели: X5, цвета: белый, 2006 года выпуска, с пробегом: 215 000 км, c номерным знаком: X012АМ77, цена: 1 115 000 руб.'\n",
        "В функцию передаются именованные параметры изменяемой части сообщения, лубой из параметров может быть не задан пользователем функции и автоматически заменен на разумное сообщение в соответствующей части строки. Получить вывод текстового сообщения для словарей c1, c2."
      ],
      "metadata": {
        "id": "FPx5QBRKI02f"
      }
    },
    {
      "cell_type": "code",
      "source": [
        "def dict_gen(**kwargs):\n",
        "  data = dict(kwargs)\n",
        "  print(f\"Автомобиль марки: {data['brand'] if 'brand' in data.keys() else 'Не указано'}, модели: {data['model'] if 'model' in data.keys() else 'Не указано'}, цвета: {data['color'] if 'color' in data.keys() else 'Не указано'}, {data['year'] if 'year' in data.keys() else 'Не указано'} года выпуска, с пробегом: {data['mileage'] if 'mileage' in data.keys() else 'Не указано'} км, c номерным знаком: {data['number'] if 'number' in data.keys() else 'Не указано'}, цена: {data['price'] if 'price' in data.keys() else 'Не указано'} руб\")\n",
        "\n",
        "\n",
        "c1 = {\n",
        "    'brand': 'BMW',\n",
        "    'model': 'm3 competition',\n",
        "    'price': '11 111 111',\n",
        "}\n",
        "\n",
        "c2 = {\n",
        "    'color': 'белый',\n",
        "    'number': 'X012AM77'\n",
        "}\n",
        "\n",
        "dict_gen(**c1)\n",
        "print()\n",
        "dict_gen(**c2)"
      ],
      "metadata": {
        "colab": {
          "base_uri": "https://localhost:8080/"
        },
        "id": "2xt6SxPVJHUH",
        "outputId": "2fdbbba2-6de0-43a1-d73b-e2ff24a2ef3b"
      },
      "execution_count": null,
      "outputs": [
        {
          "output_type": "stream",
          "name": "stdout",
          "text": [
            "Автомобиль марки: BMW, модели: m3 competion, цвета: Не указано, Не указано года выпуска, с пробегом: Не указано км, c номерным знаком: Не указано, цена: 11 111 111 руб\n",
            "\n",
            "Автомобиль марки: Не указано, модели: Не указано, цвета: белый, Не указано года выпуска, с пробегом: Не указано км, c номерным знаком: X012AM77, цена: Не указано руб\n"
          ]
        }
      ]
    },
    {
      "cell_type": "markdown",
      "source": [
        "5.8) Написать функцию, которая преобразует целое число (от 0 до 99) в текстовое написание числа на русском языке. Пример: to_text(15) -> 'Пятнадцать'\n"
      ],
      "metadata": {
        "id": "KSDLyrKUMCAW"
      }
    },
    {
      "cell_type": "code",
      "source": [
        "def number_to_words(number: float) -> str:\n",
        "    number = round(number, 3)\n",
        "    units = number % 10\n",
        "    tens = number - units\n",
        "    if tens > 99 and tens not in [100, 200, 300, 400, 500, 600, 700, 800, 900]:\n",
        "        tens -= 100 * int(str(tens)[0])\n",
        "    elif tens in [100, 200, 300, 400, 500, 600, 700, 800, 900]:\n",
        "        tens = 0\n",
        "    hundreds = number - tens - units\n",
        "    ost = 0\n",
        "    try:\n",
        "        ost = int(str(number).split('.')[1]) % 1000\n",
        "    except IndexError:\n",
        "        pass\n",
        "    digit = int(number // 1)\n",
        "    if ((number < 20) or (number in [20, 30, 40, 50, 60, 70, 80, 90, 100, 200, 300, 400, 500, 600, 700, 800, 900])) and ost == 0:\n",
        "        return digits_to_words.get(number)\n",
        "    elif ost != 0:\n",
        "        return number_to_words(digit) + ' и ' + number_to_words(ost) + ' ' + digits_to_words.get(str(len(str(number).split('.')[1])))\n",
        "    elif number > 100:\n",
        "        if tens == 0:\n",
        "            return digits_to_words.get(hundreds)+' ' + digits_to_words.get(units)\n",
        "        elif hundreds == 0:\n",
        "            return digits_to_words.get(tens) + ' ' + digits_to_words.get(units)\n",
        "        elif units == 0:\n",
        "            return digits_to_words.get(hundreds) + ' ' + digits_to_words.get(tens)\n",
        "        elif tens == hundreds == 0:\n",
        "            return digits_to_words.get(units)\n",
        "        elif tens == units == 0:\n",
        "            return digits_to_words.get(hundreds)\n",
        "        elif units == hundreds == 0:\n",
        "            return digits_to_words.get(tens)\n",
        "        return digits_to_words.get(hundreds) + ' ' + digits_to_words.get(tens) + ' ' + digits_to_words.get(units)\n",
        "    else:\n",
        "        return digits_to_words.get(tens) + ' ' + digits_to_words.get(units)\n",
        "\n",
        "digits_to_words = {\n",
        "    0: 'ноль',\n",
        "    1: 'один',\n",
        "    2: 'два',\n",
        "    3: 'три',\n",
        "    4: 'четыре',\n",
        "    5: 'пять',\n",
        "    6: 'шесть',\n",
        "    7: 'семь',\n",
        "    8: 'восемь',\n",
        "    9: 'девять',\n",
        "    10: 'десять',\n",
        "    11: 'одиннадцать',\n",
        "    12: 'двенадцать',\n",
        "    13: 'тринадцать',\n",
        "    14: 'четырнадцать',\n",
        "    15: 'пятнадцать',\n",
        "    16: 'шестнадцать',\n",
        "    17: 'семнадцать',\n",
        "    18: 'восемнадцать',\n",
        "    19: 'девятнадцать',\n",
        "    20: 'двадцать',\n",
        "    30: 'тридцать',\n",
        "    40: 'сорок',\n",
        "    50: 'пятьдесят',\n",
        "    60: 'шестьдесят',\n",
        "    70: 'семьдесят',\n",
        "    80: 'восемьдесят',\n",
        "    90: 'девяносто',\n",
        "    100: 'сто',\n",
        "    200: 'двести',\n",
        "    300: 'триста',\n",
        "    400: 'четыреста',\n",
        "    500: 'пятьсот',\n",
        "    600: 'шестьсот',\n",
        "    700: 'семьсот',\n",
        "    800: 'восемьсот',\n",
        "    900: 'девятьсот',\n",
        "    'и': '.',\n",
        "    'одна': 1,\n",
        "    'две': 2,\n",
        "    '1': 'десятых',\n",
        "    '2': 'сотых',\n",
        "    '3': 'тысячных',\n",
        "    '4': 'десятитысячных',\n",
        "    '5': 'стотысячных',\n",
        "    '6': 'миллионных'\n",
        "}\n",
        "print(number_to_words(float(input())))"
      ],
      "metadata": {
        "colab": {
          "base_uri": "https://localhost:8080/"
        },
        "id": "oFWNbRMS0l0E",
        "outputId": "4f07921b-d94c-4ed7-e678-e98ff9e9522b"
      },
      "execution_count": null,
      "outputs": [
        {
          "output_type": "stream",
          "name": "stdout",
          "text": [
            "100\n",
            "сто\n"
          ]
        }
      ]
    },
    {
      "cell_type": "markdown",
      "source": [
        "5.9) Написать функцию, которая преобразует целое число (от 0 до 999) из текстового представления на руссокм языке в число типа int. Пример: to_int('тридцать три') -> 33\n"
      ],
      "metadata": {
        "id": "5-OF5usZN0YG"
      }
    },
    {
      "cell_type": "code",
      "source": [
        "from math import *"
      ],
      "metadata": {
        "id": "IsIalG2mMIwm"
      },
      "execution_count": null,
      "outputs": []
    },
    {
      "cell_type": "code",
      "source": [
        "def words_to_numbers(number: str) -> str:\n",
        "    res = ''\n",
        "    temp = ''\n",
        "    for word in number.split():\n",
        "        if words_to_digits.get(word) != None:\n",
        "                if word in ['двадцать', 'тридцать', 'сорок', 'пятьдесят', 'шестьдесят', 'семьдесят', 'восемьдесят', 'девяносто', 'сто','двести','триста','четыреста','пятьсот','шестьсот','семьсот','восемьсот','девятьсот']:\n",
        "                    if temp != '':\n",
        "                        temp = str(int(temp) + words_to_digits.get(word))\n",
        "                    else:\n",
        "                        temp = str(words_to_digits.get(word))\n",
        "                    continue\n",
        "                else:\n",
        "                    if temp != '':\n",
        "                        res += str(int(temp) + words_to_digits.get(word))\n",
        "                        temp = ''\n",
        "                    else:\n",
        "                        res += str(words_to_digits.get(word))\n",
        "    if temp != '':\n",
        "        res += temp\n",
        "    return res\n",
        "\n",
        "\n",
        "words_to_digits = {\n",
        "    'трех':3,\n",
        "    'четырех':4,\n",
        "    'пяти':5,\n",
        "    'ноль': 0,\n",
        "    'один': 1,\n",
        "    'два': 2,\n",
        "    'три': 3,\n",
        "    'четыре': 4,\n",
        "    'пять': 5,\n",
        "    'шесть': 6,\n",
        "    'семь': 7,\n",
        "    'восемь': 8,\n",
        "    'девять': 9,\n",
        "    'десять': 10,\n",
        "    'одиннадцать': 11,\n",
        "    'двенадцать': 12,\n",
        "    'тринадцать': 13,\n",
        "    'четырнадцать': 14,\n",
        "    'пятнадцать': 15,\n",
        "    'шестнадцать': 16,\n",
        "    'семнадцать': 17,\n",
        "    'восемнадцать': 18,\n",
        "    'девятнадцать': 19,\n",
        "    'двадцать': 20,\n",
        "    'тридцать': 30,\n",
        "    'сорок': 40,\n",
        "    'пятьдесят': 50,\n",
        "    'шестьдесят': 60,\n",
        "    'семьдесят': 70,\n",
        "    'восемьдесят': 80,\n",
        "    'девяносто': 90,\n",
        "    'сто': 100,\n",
        "    'двести': 200,\n",
        "    'триста': 300,\n",
        "    'четыреста': 400,\n",
        "    'пятьсот': 500,\n",
        "    'шестьсот': 600,\n",
        "    'семьсот': 700,\n",
        "    'восемьсот': 800,\n",
        "    'девятьсот': 900,\n",
        "    'плюс': '+',\n",
        "    'минус': \"-\",\n",
        "    'умножить': '*',\n",
        "    'открывается': '(',\n",
        "    'закрывается': ')',\n",
        "    'разделить': '/',\n",
        "    'остаток': '%',\n",
        "}\n",
        "\n",
        "print(words_to_numbers(input()))"
      ],
      "metadata": {
        "colab": {
          "base_uri": "https://localhost:8080/"
        },
        "id": "e3Qamd9oMlTJ",
        "outputId": "41fa12e7-6d99-426c-9b6e-58f42e81c1fc"
      },
      "execution_count": null,
      "outputs": [
        {
          "output_type": "stream",
          "name": "stdout",
          "text": [
            "тысяча двадцать три\n",
            "23\n"
          ]
        }
      ]
    },
    {
      "cell_type": "markdown",
      "source": [
        "6.1) Написать калькулятор для строковых выражений вида '<число> <операция> <число>', где <число> - не отрицательное целое число меньшее 100, записанное словами, например \"тридцать четыре\", <арифмитическая операция> - одна из операций \"плюс\",\"минус\",\"умножить\". Результат выполнения операции вернуть в виде текстового представления числа. Пример calc('двадцать пять плюс тринадцать') -> \"тридцать восемь\""
      ],
      "metadata": {
        "id": "xnvEm3FCOFNN"
      }
    },
    {
      "cell_type": "code",
      "source": [
        "def calc(inp):\n",
        "  return eval(words_to_numbers(inp))\n",
        "\n",
        "print(calc(input()))"
      ],
      "metadata": {
        "colab": {
          "base_uri": "https://localhost:8080/"
        },
        "id": "ePz4RS_VN8Vr",
        "outputId": "ef42cf68-a473-4616-fe8e-9aa8adbfd7c9"
      },
      "execution_count": null,
      "outputs": [
        {
          "output_type": "stream",
          "name": "stdout",
          "text": [
            "тридцать пять плюс тринадцать\n",
            "48\n"
          ]
        }
      ]
    }
  ]
}