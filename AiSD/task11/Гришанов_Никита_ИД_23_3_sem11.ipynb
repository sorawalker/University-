{
 "nbformat": 4,
 "nbformat_minor": 0,
 "metadata": {
  "colab": {
   "provenance": []
  },
  "kernelspec": {
   "name": "python3",
   "display_name": "Python 3"
  },
  "language_info": {
   "name": "python"
  }
 },
 "cells": [
  {
   "cell_type": "markdown",
   "source": [
    "1) Создать скрипт для анализа тестовых файлов - сбора статистики упоминания слов. Аргументом командной строки является имя файла, который нужно проанализировать. Второй аргумент - количество слов, которые нужно выводить на экран (если аргумент не указан, то выводим статистику по 100 словам, статистика выводится в порядке убывания частоты слов, по каждому слову на экран выводится строка в формате \"<слово> <частота>\"). Если второй аргумент не целое число, то его рассматриваем как имя файла, в который в формате CSV с заголовком сохраняем статистику слов (Первый столбец - слово, второй столбце - частота)."
   ],
   "metadata": {
    "id": "C6wjazUp8s82"
   }
  },
  {
   "cell_type": "code",
   "execution_count": null,
   "metadata": {
    "colab": {
     "base_uri": "https://localhost:8080/",
     "height": 216
    },
    "id": "cq1N4tlA8mac",
    "outputId": "e2d54f18-1e95-4c45-e688-88d02099c58d"
   },
   "outputs": [
    {
     "output_type": "error",
     "ename": "FileNotFoundError",
     "evalue": "[Errno 2] No such file or directory: '-f'",
     "traceback": [
      "\u001B[0;31m---------------------------------------------------------------------------\u001B[0m",
      "\u001B[0;31mFileNotFoundError\u001B[0m                         Traceback (most recent call last)",
      "\u001B[0;32m<ipython-input-4-73f742e75c64>\u001B[0m in \u001B[0;36m<cell line: 5>\u001B[0;34m()\u001B[0m\n\u001B[1;32m      3\u001B[0m \u001B[0margs\u001B[0m \u001B[0;34m=\u001B[0m \u001B[0msys\u001B[0m\u001B[0;34m.\u001B[0m\u001B[0margv\u001B[0m\u001B[0;34m\u001B[0m\u001B[0;34m\u001B[0m\u001B[0m\n\u001B[1;32m      4\u001B[0m \u001B[0;34m\u001B[0m\u001B[0m\n\u001B[0;32m----> 5\u001B[0;31m \u001B[0mf\u001B[0m \u001B[0;34m=\u001B[0m \u001B[0mopen\u001B[0m\u001B[0;34m(\u001B[0m\u001B[0margs\u001B[0m\u001B[0;34m[\u001B[0m\u001B[0;36m1\u001B[0m\u001B[0;34m]\u001B[0m\u001B[0;34m)\u001B[0m\u001B[0;34m.\u001B[0m\u001B[0mread\u001B[0m\u001B[0;34m(\u001B[0m\u001B[0;34m)\u001B[0m\u001B[0;34m.\u001B[0m\u001B[0mreplace\u001B[0m\u001B[0;34m(\u001B[0m\u001B[0;34m','\u001B[0m\u001B[0;34m,\u001B[0m \u001B[0;34m' '\u001B[0m\u001B[0;34m)\u001B[0m\u001B[0;34m.\u001B[0m\u001B[0mreplace\u001B[0m\u001B[0;34m(\u001B[0m\u001B[0;34m'.'\u001B[0m\u001B[0;34m,\u001B[0m \u001B[0;34m' '\u001B[0m\u001B[0;34m)\u001B[0m\u001B[0;34m.\u001B[0m\u001B[0mreplace\u001B[0m\u001B[0;34m(\u001B[0m\u001B[0;34m'!'\u001B[0m\u001B[0;34m,\u001B[0m\u001B[0;34m' '\u001B[0m\u001B[0;34m)\u001B[0m\u001B[0;34m.\u001B[0m\u001B[0mreplace\u001B[0m\u001B[0;34m(\u001B[0m\u001B[0;34m'?'\u001B[0m\u001B[0;34m,\u001B[0m \u001B[0;34m' '\u001B[0m\u001B[0;34m)\u001B[0m\u001B[0;34m\u001B[0m\u001B[0;34m\u001B[0m\u001B[0m\n\u001B[0m\u001B[1;32m      6\u001B[0m \u001B[0;32mtry\u001B[0m\u001B[0;34m:\u001B[0m\u001B[0;34m\u001B[0m\u001B[0;34m\u001B[0m\u001B[0m\n\u001B[1;32m      7\u001B[0m     \u001B[0mcount_words\u001B[0m \u001B[0;34m=\u001B[0m \u001B[0margs\u001B[0m\u001B[0;34m[\u001B[0m\u001B[0;36m2\u001B[0m\u001B[0;34m]\u001B[0m\u001B[0;34m\u001B[0m\u001B[0;34m\u001B[0m\u001B[0m\n",
      "\u001B[0;31mFileNotFoundError\u001B[0m: [Errno 2] No such file or directory: '-f'"
     ]
    }
   ],
   "source": [
    "import csv\n",
    "import sys\n",
    "args = sys.argv\n",
    "try:\n",
    "    f = open(args[1]).read().replace(',', ' ').replace('.', ' ').replace('!',' ').replace('?', ' ').replace('/', ' ').replace('\"', ' ').replace(\"'\", ' ').replace(':', ' ')\n",
    "except FileNotFoundError:\n",
    "    raise FileNotFoundError('Файл либо не указан, либо его нет в директории')\n",
    "try:\n",
    "    count_words = args[2]\n",
    "except IndexError:\n",
    "    count_words = ''\n",
    "res_path = None\n",
    "if count_words != '':\n",
    "    try:\n",
    "        count_words = int(count_words)\n",
    "    except ValueError:\n",
    "        res_path = count_words\n",
    "        count_words = len(f.split())\n",
    "else:\n",
    "    count_words = 100\n",
    "ans = dict()\n",
    "for word in f.split():\n",
    "    try:\n",
    "        haha = ans[word]\n",
    "    except KeyError:\n",
    "        ans[word] = f.split().count(word)\n",
    "    if len(ans.keys()) == count_words:\n",
    "        break\n",
    "sort_ans = sorted(ans.items(), key=lambda item: item[1], reverse=True)\n",
    "ans = dict()\n",
    "for elem in sort_ans:\n",
    "    ans[elem[0]] = elem[1]\n",
    "if res_path is not None:\n",
    "    with open(str(res_path)+'.csv', 'w+') as csv_file:\n",
    "        for key, value in ans.items():\n",
    "            csv.writer(csv_file).writerow([key, value])\n",
    "print(ans)\n"
   ]
  },
  {
   "cell_type": "markdown",
   "source": [
    "2) Создать скрипт, которому в командной строке передаются имена файлов. В файлах в формате CSV с заголовком содержится информация о частоте слов: первый столбец - слово, второй столбце - частота. Выполнить агрегацию информации о частоте слов из всех переданных файлов (т.е. рассчитать суммарную частоту для всех упомянутых слов). Результат сохранить в файл с именем, которое введет пользователь в ответ на соответствующий запрос.\n",
    "\n",
    "2.1) Скрипт должен адекватно реагировать на ситуацию отсутствия файлов и другие проблемы с вводом/выводом.\n"
   ],
   "metadata": {
    "id": "ct-tfol78zGR"
   }
  },
  {
   "cell_type": "code",
   "source": [],
   "metadata": {
    "colab": {
     "base_uri": "https://localhost:8080/"
    },
    "id": "i8AReeTstQdA",
    "outputId": "fc1b1bb6-9f08-47da-e544-3fd56af9fcf7"
   },
   "execution_count": 1,
   "outputs": [
    {
     "output_type": "stream",
     "name": "stdout",
     "text": [
      "Такого файла нет в директории\n"
     ]
    }
   ]
  },
  {
   "cell_type": "markdown",
   "source": [
    "2.2) Оформить модуль с функциями, которые используются в задании 1 и 2."
   ],
   "metadata": {
    "id": "b5IMhhnA87sr"
   }
  },
  {
   "cell_type": "code",
   "source": [],
   "metadata": {
    "id": "cnv2whhatP-C"
   },
   "execution_count": null,
   "outputs": []
  },
  {
   "cell_type": "markdown",
   "source": [
    "3.1) Написать программу, которая запускается из консоли и считает сумму переданных в неё чисел"
   ],
   "metadata": {
    "id": "4YjnWrch8_tm"
   }
  },
  {
   "cell_type": "markdown",
   "source": [
    "3.2) Добавить в эту программу произведение\n",
    "\n",
    "3.3) По переданному параметру считать либо сумму, либо произведение"
   ],
   "metadata": {
    "id": "WxNUMuJe9CI7"
   }
  },
  {
   "cell_type": "code",
   "source": [
    "import sys\n",
    "\n",
    "\n",
    "def sum_of_n(numbers):\n",
    "    sum_of_numbers = 0.0\n",
    "    for numb in numbers:\n",
    "        try:\n",
    "            sum_of_numbers += float(numb)\n",
    "        except:\n",
    "            raise ValueError('Не все переданные значения числа')\n",
    "    return sum_of_numbers\n",
    "\n",
    "\n",
    "def mult_of_n(numbers):\n",
    "    mult_of_numbers = 1\n",
    "    for numb in numbers:\n",
    "        try:\n",
    "            mult_of_numbers *= float(numb)\n",
    "        except:\n",
    "            raise ValueError('Не все переданные значения числа')\n",
    "    return mult_of_numbers\n",
    "\n",
    "def main():\n",
    "    if len(sys.argv) < 2:\n",
    "        raise SystemExit('Указано неверное количество аргументов')\n",
    "    if sys.argv[1] == 'sum':\n",
    "        print(sum_of_n(sys.argv[2:]))\n",
    "    elif sys.argv[1] == 'mult':\n",
    "        print(mult_of_n(sys.argv[2:]))\n",
    "    else:\n",
    "        print('Выбран неверный режим работы скрипта')"
   ],
   "metadata": {
    "id": "UfPYesiX9CW2"
   },
   "execution_count": null,
   "outputs": []
  },
  {
   "cell_type": "markdown",
   "source": [
    "3.4) Оформить это дополнительный модуль."
   ],
   "metadata": {
    "id": "fmFFQMWa9HIi"
   }
  },
  {
   "cell_type": "markdown",
   "source": [
    "4) Реализовать модуль calculate.py, содержащий набор функций для работы с целыми числами, записанными как на русском языке (например: тридцать восемь), так и в виде простых арифметических выражений (например: 2 + 3)."
   ],
   "metadata": {
    "id": "G3XQJKzUwBj1"
   }
  },
  {
   "cell_type": "code",
   "source": [
    "from math import *\n",
    "\n",
    "def number_to_words(number: float) -> str:\n",
    "    number = round(number, 3)\n",
    "    units = number % 10\n",
    "    tens = number - units\n",
    "    if tens > 99 and tens not in [100, 200, 300, 400, 500, 600, 700, 800, 900]:\n",
    "        tens -= 100 * int(str(tens)[0])\n",
    "    elif tens in [100, 200, 300, 400, 500, 600, 700, 800, 900]:\n",
    "        tens = 0\n",
    "    hundreds = number - tens - units\n",
    "    ost = 0\n",
    "    try:\n",
    "        ost = int(str(number).split('.')[1]) % 1000\n",
    "    except IndexError:\n",
    "        pass\n",
    "    digit = int(number // 1)\n",
    "    if ((number < 20) or (number in [20, 30, 40, 50, 60, 70, 80, 90, 100, 200, 300, 400, 500, 600, 700, 800, 900])) and ost == 0:\n",
    "        return digits_to_words.get(number)\n",
    "    elif ost != 0:\n",
    "        return number_to_words(digit) + ' и ' + number_to_words(ost) + ' ' + digits_to_words.get(str(len(str(number).split('.')[1])))\n",
    "    elif number > 100:\n",
    "        if tens == 0:\n",
    "            return digits_to_words.get(hundreds)+' ' + digits_to_words.get(units)\n",
    "        elif hundreds == 0:\n",
    "            return digits_to_words.get(tens) + ' ' + digits_to_words.get(units)\n",
    "        elif units == 0:\n",
    "            return digits_to_words.get(hundreds) + ' ' + digits_to_words.get(tens)\n",
    "        elif tens == hundreds == 0:\n",
    "            return digits_to_words.get(units)\n",
    "        elif tens == units == 0:\n",
    "            return digits_to_words.get(hundreds)\n",
    "        elif units == hundreds == 0:\n",
    "            return digits_to_words.get(tens)\n",
    "        return digits_to_words.get(hundreds) + ' ' + digits_to_words.get(tens) + ' ' + digits_to_words.get(units)\n",
    "    else:\n",
    "        return digits_to_words.get(tens) + ' ' + digits_to_words.get(units)\n",
    "\n",
    "\n",
    "def words_to_numbers(number: str) -> str:\n",
    "    res = ''\n",
    "    temp = ''\n",
    "    for word in number.split():\n",
    "        if words_to_digits.get(word) != None:\n",
    "            if word in ['двадцать', 'тридцать', 'сорок', 'пятьдесят', 'шестьдесят', 'семьдесят', 'восемьдесят', 'девяносто', 'сто','двести','триста','четыреста','пятьсот','шестьсот','семьсот','восемьсот','девятьсот']:\n",
    "                if temp != '':\n",
    "                    temp = str(int(temp) + words_to_digits.get(word))\n",
    "                else:\n",
    "                    temp = str(words_to_digits.get(word))\n",
    "                continue\n",
    "            else:\n",
    "                if temp != '':\n",
    "                    res += str(int(temp) + words_to_digits.get(word))\n",
    "                    temp = ''\n",
    "                else:\n",
    "                    res += str(words_to_digits.get(word))\n",
    "    if temp != '':\n",
    "        res += temp\n",
    "    return res\n",
    "\n",
    "\n",
    "\n",
    "def calc(s):\n",
    "    n = words_to_numbers(s)\n",
    "    print(eval(n))\n",
    "\n",
    "\n",
    "digits_to_words = {\n",
    "    0: 'ноль',\n",
    "    1: 'один',\n",
    "    2: 'два',\n",
    "    3: 'три',\n",
    "    4: 'четыре',\n",
    "    5: 'пять',\n",
    "    6: 'шесть',\n",
    "    7: 'семь',\n",
    "    8: 'восемь',\n",
    "    9: 'девять',\n",
    "    10: 'десять',\n",
    "    11: 'одиннадцать',\n",
    "    12: 'двенадцать',\n",
    "    13: 'тринадцать',\n",
    "    14: 'четырнадцать',\n",
    "    15: 'пятнадцать',\n",
    "    16: 'шестнадцать',\n",
    "    17: 'семнадцать',\n",
    "    18: 'восемнадцать',\n",
    "    19: 'девятнадцать',\n",
    "    20: 'двадцать',\n",
    "    30: 'тридцать',\n",
    "    40: 'сорок',\n",
    "    50: 'пятьдесят',\n",
    "    60: 'шестьдесят',\n",
    "    70: 'семьдесят',\n",
    "    80: 'восемьдесят',\n",
    "    90: 'девяносто',\n",
    "    100: 'сто',\n",
    "    200: 'двести',\n",
    "    300: 'триста',\n",
    "    400: 'четыреста',\n",
    "    500: 'пятьсот',\n",
    "    600: 'шестьсот',\n",
    "    700: 'семьсот',\n",
    "    800: 'восемьсот',\n",
    "    900: 'девятьсот',\n",
    "    'и': '.',\n",
    "    'одна': 1,\n",
    "    'две': 2,\n",
    "    '1': 'десятых',\n",
    "    '2': 'сотых',\n",
    "    '3': 'тысячных',\n",
    "    '4': 'десятитысячных',\n",
    "    '5': 'стотысячных',\n",
    "    '6': 'миллионных'\n",
    "}\n",
    "\n",
    "words_to_digits = {\n",
    "    'трех':3,\n",
    "    'четырех':4,\n",
    "    'пяти':5,\n",
    "    'ноль': 0,\n",
    "    'один': 1,\n",
    "    'два': 2,\n",
    "    'три': 3,\n",
    "    'четыре': 4,\n",
    "    'пять': 5,\n",
    "    'шесть': 6,\n",
    "    'семь': 7,\n",
    "    'восемь': 8,\n",
    "    'девять': 9,\n",
    "    'десять': 10,\n",
    "    'одиннадцать': 11,\n",
    "    'двенадцать': 12,\n",
    "    'тринадцать': 13,\n",
    "    'четырнадцать': 14,\n",
    "    'пятнадцать': 15,\n",
    "    'шестнадцать': 16,\n",
    "    'семнадцать': 17,\n",
    "    'восемнадцать': 18,\n",
    "    'девятнадцать': 19,\n",
    "    'двадцать': 20,\n",
    "    'тридцать': 30,\n",
    "    'сорок': 40,\n",
    "    'пятьдесят': 50,\n",
    "    'шестьдесят': 60,\n",
    "    'семьдесят': 70,\n",
    "    'восемьдесят': 80,\n",
    "    'девяносто': 90,\n",
    "    'сто': 100,\n",
    "    'двести': 200,\n",
    "    'триста': 300,\n",
    "    'четыреста': 400,\n",
    "    'пятьсот': 500,\n",
    "    'шестьсот': 600,\n",
    "    'семьсот': 700,\n",
    "    'восемьсот': 800,\n",
    "    'девятьсот': 900,\n",
    "    'плюс': '+',\n",
    "    'минус': \"-\",\n",
    "    'умножить': '*',\n",
    "    'открывается': '(',\n",
    "    'закрывается': ')',\n",
    "    'разделить': '/',\n",
    "    'остаток': '%',\n",
    "    'и': '.',\n",
    "    'одна': 1,\n",
    "    'две': 2,\n",
    "    'степени': '**',\n",
    "    'пи': pi,\n",
    "    'синус': 'sin(!)',\n",
    "    'косинус': 'cos(!)',\n",
    "    'тангенс': 'tg(!)',\n",
    "    'котангенс': 'ctg(!)',\n",
    "    'размещений': 'accommodation(!)',\n",
    "    'сочетаний': 'combination(!)',\n",
    "    'перестановок': 'permutation(!)',\n",
    "}\n",
    "\n",
    "\n",
    "def main():\n",
    "    try:\n",
    "        calc(input())\n",
    "    except SyntaxError:\n",
    "        print('Ошибка в вводе.')\n",
    "        print('Введите заново:')\n",
    "        main()\n",
    "    except TypeError:\n",
    "        print('Ошибка в вводе.')\n",
    "        print('Введите заново:')\n",
    "        main()\n",
    "    except ZeroDivisionError:\n",
    "        print('Делить на ноль нельзя')\n",
    "\n",
    "\n",
    "if __name__ == '__main__':\n",
    "    main()"
   ],
   "metadata": {
    "id": "lAxwm4-pwJ_s"
   },
   "execution_count": null,
   "outputs": []
  },
  {
   "cell_type": "markdown",
   "source": [
    "На базе этого модуля подготовить скрипт calculate.py со следующими возможностями:\n",
    "1) python calculate.py to_numbers my_file.txt\n",
    "Вызов приводит к преобразованию всех чисел, написанных на русском языке в числовом виде и сохранению изменений в файл с тем же именем.\n",
    "python calculate.py to_numbers my_file.txt my_file_res.txt\n",
    "(результат сохраняется в файл с именем my_file_res.txt)"
   ],
   "metadata": {
    "collapsed": false
   }
  },
  {
   "cell_type": "code",
   "execution_count": null,
   "outputs": [],
   "source": [],
   "metadata": {
    "collapsed": false
   }
  }
 ]
}
