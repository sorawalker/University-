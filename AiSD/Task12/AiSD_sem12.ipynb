{
  "nbformat": 4,
  "nbformat_minor": 0,
  "metadata": {
    "colab": {
      "provenance": []
    },
    "kernelspec": {
      "name": "python3",
      "display_name": "Python 3"
    },
    "language_info": {
      "name": "python"
    }
  },
  "cells": [
    {
      "cell_type": "markdown",
      "source": [
        "1) При помощи стека (можно использовать любую реализацию стека, например, из лекции) проверить, что в строке, содержащей большой фрагмент кода на python, корректно открываются и закрываются скобки '(' и ')'. Заводить какие-либо счетчики и вообще вести подсчет скобок запрещено.\n",
        "\n",
        "Например, в следующей строке корректное количество скобок:\n",
        "'((dsasdas((das(d)das)d)asd)da)'\n",
        "\n",
        "А вот в следующей закрывающих больше, чем открывающих:\n",
        "'(f(gfhd((hgfdg((fghh)dads)das))ds)adddads())))'\n"
      ],
      "metadata": {
        "id": "uDSBrprnu3Kl"
      }
    },
    {
      "cell_type": "code",
      "execution_count": null,
      "metadata": {
        "colab": {
          "base_uri": "https://localhost:8080/"
        },
        "id": "KW80yZ9lu07P",
        "outputId": "59375e29-73c9-4eed-a299-056ba86a1147"
      },
      "outputs": [
        {
          "output_type": "stream",
          "name": "stdout",
          "text": [
            "(f(gfhd((hgfdg((fghh)dads)das))ds)adddads())))\n",
            "Скобки открываются и закрываются некорректно\n"
          ]
        }
      ],
      "source": [
        "class Stack:\n",
        "\n",
        "    def __init__(self):\n",
        "        self.stack = []\n",
        "\n",
        "    def push(self, elem):\n",
        "       self.stack.append(elem)\n",
        "\n",
        "    def is_empty(self):\n",
        "        if len(self.stack) == 0:\n",
        "            return True\n",
        "        return False\n",
        "\n",
        "    def top(self):\n",
        "        if self.is_empty():\n",
        "            raise IndexError('Стек пустой')\n",
        "        return self.stack[-1]\n",
        "\n",
        "    def pop(self):\n",
        "        last = self.top()\n",
        "        self.stack.pop(-1)\n",
        "        return last\n",
        "\n",
        "    def __len__(self):\n",
        "        return len(self.stack)\n",
        "\n",
        "\n",
        "data = input()\n",
        "stack = Stack()\n",
        "for symbol in data:\n",
        "    if symbol == '(':\n",
        "        stack.push(symbol)\n",
        "    elif symbol == ')':\n",
        "        if stack.is_empty():\n",
        "            stack.push(symbol)\n",
        "            break\n",
        "        stack.pop()\n",
        "\n",
        "if stack.is_empty():\n",
        "    print('Скобки открываются и закрываются корректно')\n",
        "else:\n",
        "    print('Скобки открываются и закрываются некорректно')\n"
      ]
    },
    {
      "cell_type": "markdown",
      "source": [
        "2) С помощью списка (list) реализовать стек. При создании стека нужно передать максимальную длину стека. В случае попытки добавления элемента, приводящего к превышению емкости стека возвращать ошибку.\n",
        "\n",
        "Стек должен поддерживать следующие операции:\n",
        "\n",
        "S.push(e): добавление элемента e на вершину стека S.\n",
        "\n",
        "S.pop(): удаляет и возвращает верхний элемент стека S. Если стек пуст, то возникает ошибка.\n",
        "\n",
        "S.top(): возвращает верхний элемент стека S, не удаляя его. Если стек пуст, то возникает ошибка.\n",
        "\n",
        "S.is_empty( ): возвращает True если стек S не содержит ни одного элемента.\n",
        "\n",
        "len(S): возвращает текущеее количество элементов в стеке S.\n"
      ],
      "metadata": {
        "id": "oMgIWCsLvByw"
      }
    },
    {
      "cell_type": "code",
      "source": [
        "class Stack:\n",
        "\n",
        "    def __init__(self, length):\n",
        "        self.max_len = length\n",
        "        self.stack = []\n",
        "\n",
        "    def push(self, elem):\n",
        "        if len(self.stack) < self.max_len:\n",
        "            self.stack.append(elem)\n",
        "        else:\n",
        "            raise IndexError('Превышена максимальная длина стека')\n",
        "\n",
        "    def is_empty(self):\n",
        "        if len(self.stack) == 0:\n",
        "            return True\n",
        "        else:\n",
        "            return False\n",
        "\n",
        "    def top(self):\n",
        "        if self.is_empty():\n",
        "            raise IndexError('Стек пустой')\n",
        "        return self.stack[-1]\n",
        "\n",
        "    def pop(self):\n",
        "        last = self.top()\n",
        "        self.stack.pop(-1)\n",
        "        return last\n",
        "\n",
        "    def __len__(self):\n",
        "        return len(self.stack)\n",
        "\n"
      ],
      "metadata": {
        "id": "85zjgrExvGaj"
      },
      "execution_count": null,
      "outputs": []
    },
    {
      "cell_type": "markdown",
      "source": [
        "3) Реализовать класс однонаправленного связанного списка.  \n",
        "\n",
        "3.1) Реализовать метод добавления элемента в начало списка.  \n"
      ],
      "metadata": {
        "id": "XnX3XAzPvHWD"
      }
    },
    {
      "cell_type": "code",
      "source": [
        "class Node:\n",
        "\n",
        "    def __init__(self, value=None, next_node=None):\n",
        "        self.value = value\n",
        "        self.next_node = next_node\n",
        "\n",
        "\n",
        "class LinkedList:\n",
        "\n",
        "    def __init__(self, *elems):\n",
        "        temp = None\n",
        "        nodes = []\n",
        "        for elem in elems:\n",
        "            node = Node(elem)\n",
        "            node.next_node = temp\n",
        "            temp = node\n",
        "            nodes.append(node)\n",
        "        self.head = None if list(nodes) == 0 else nodes[0]\n",
        "        self.tail = None if list(nodes) == 0 else nodes[-1]\n",
        "\n",
        "    def add_to_beginning(self, elem):\n",
        "        if self.head is None and self.tail is None:\n",
        "            self.head = self.tail = Node(elem)\n",
        "        else:\n",
        "            new_node = Node(elem)\n",
        "            new_node.next_node = self.head\n",
        "            self.head = new_node\n",
        "\n",
        "\n",
        "lst = LinkedList(8, 9, 10)\n",
        "lst.add_to_beginning(7)\n",
        "print(lst.head.next_node.value)"
      ],
      "metadata": {
        "colab": {
          "base_uri": "https://localhost:8080/"
        },
        "id": "g39dBIpcvKsc",
        "outputId": "e8b74ec0-54f0-4ea0-c7e9-b5e5cc21cb45"
      },
      "execution_count": null,
      "outputs": [
        {
          "output_type": "stream",
          "name": "stdout",
          "text": [
            "8\n"
          ]
        }
      ]
    },
    {
      "cell_type": "markdown",
      "source": [
        "4) На базе класса однонаправленного связанного списка реализовать двунаправленный связанный список.  \n",
        "\n",
        "4.1) Реализовать метод добавления элемента в начало списка.  \n"
      ],
      "metadata": {
        "id": "dPOCeKM7vMyW"
      }
    },
    {
      "cell_type": "code",
      "source": [
        "class Node:\n",
        "\n",
        "    def __init__(self, value=None, next_node=None, previous_node=None):\n",
        "        self.value = value\n",
        "        self.next_node = next_node\n",
        "        self.previous_node = previous_node\n",
        "\n",
        "\n",
        "class LinkedList:\n",
        "\n",
        "    def __init__(self, *elems):\n",
        "        previous = None\n",
        "        nodes = []\n",
        "        for elem in elems:\n",
        "            node = Node(elem)\n",
        "            if previous is not None:\n",
        "                previous.next_node = node\n",
        "                node.previous_node = previous\n",
        "            previous = node\n",
        "            nodes.append(node)\n",
        "        self.head = None if list(nodes) == 0 else nodes[0]\n",
        "        self.tail = None if list(nodes) == 0 else nodes[-1]\n",
        "\n",
        "    def add_to_beginning(self, elem):\n",
        "        if self.head is None and self.tail is None:\n",
        "            self.head = self.tail = Node(elem)\n",
        "        else:\n",
        "            new_node = Node(elem)\n",
        "            new_node.next_node = self.head\n",
        "            self.head.previous_node = new_node\n",
        "            self.head = new_node\n",
        "\n",
        "\n",
        "lst = LinkedList(8, 9, 10)\n",
        "lst.add_to_beginning(7)\n",
        "print(lst.head.next_node.previous_node.value)"
      ],
      "metadata": {
        "colab": {
          "base_uri": "https://localhost:8080/"
        },
        "id": "nMa5DfgevO36",
        "outputId": "16c1d8b4-fc01-4625-c120-9fb28052488c"
      },
      "execution_count": null,
      "outputs": [
        {
          "output_type": "stream",
          "name": "stdout",
          "text": [
            "7\n"
          ]
        }
      ]
    },
    {
      "cell_type": "markdown",
      "source": [
        "5) При помощи класса связанного списка реализовать очередь."
      ],
      "metadata": {
        "id": "iY0tYh_8vPed"
      }
    },
    {
      "cell_type": "code",
      "source": [
        "class Node:\n",
        "\n",
        "    def __init__(self, value=None, next_node=None, previous_node=None):\n",
        "        self.value = value\n",
        "        self.next_node = next_node\n",
        "        self.previous_node = previous_node\n",
        "\n",
        "\n",
        "class LinkedList:\n",
        "\n",
        "    def __init__(self, *elems):\n",
        "        previous = None\n",
        "        nodes = []\n",
        "        for elem in elems:\n",
        "            node = Node(elem)\n",
        "            if previous is not None:\n",
        "                previous.next_node = node\n",
        "                node.previous_node = previous\n",
        "            previous = node\n",
        "            nodes.append(node)\n",
        "        self.head = None if list(nodes) == 0 else nodes[0]\n",
        "        self.tail = None if list(nodes) == 0 else nodes[-1]\n",
        "\n",
        "    def add_to_beginning(self, elem):\n",
        "        if self.head is None and self.tail is None:\n",
        "            self.head = self.tail = Node(elem)\n",
        "        else:\n",
        "            new_node = Node(elem)\n",
        "            new_node.next_node = self.list[0]\n",
        "            self.list[0].previous_node = new_node\n",
        "            self.head = new_node\n",
        "            self.list = [new_node]+self.list\n",
        "\n",
        "\n",
        "class Queue(LinkedList):\n",
        "\n",
        "    def __init__(self, *elems):\n",
        "        super().__init__(elems)\n",
        "\n",
        "    def enqueue(self, elem):\n",
        "        if self.head is None and self.tail is None:\n",
        "            self.head = self.tail = Node(elem)\n",
        "        else:\n",
        "            new_node = Node(elem)\n",
        "            new_node.previous_node = self.previous_node\n",
        "            self.previous_node.next_node = new_node\n",
        "            self.tail = new_node\n",
        "\n",
        "    def dequeue(self):\n",
        "        if len(self.list) == 0:\n",
        "            raise IndexError('Очередь пустая')\n",
        "        return self.list.pop(0).value"
      ],
      "metadata": {
        "id": "sesebID5vRB0"
      },
      "execution_count": null,
      "outputs": []
    }
  ]
}