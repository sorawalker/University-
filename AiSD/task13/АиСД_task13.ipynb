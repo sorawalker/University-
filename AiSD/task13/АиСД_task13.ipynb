{
  "nbformat": 4,
  "nbformat_minor": 0,
  "metadata": {
    "colab": {
      "provenance": []
    },
    "kernelspec": {
      "name": "python3",
      "display_name": "Python 3"
    },
    "language_info": {
      "name": "python"
    }
  },
  "cells": [
    {
      "cell_type": "markdown",
      "source": [
        "1) Реализовать простейший динамический массив, поддерживающий добавление элемента в конец массива при помощи метода append(e).\n",
        "\n",
        "Также должны поддерживаться следующие операции:\n",
        "\n",
        "извлечение элемента по индексу;\n",
        "\n",
        "устанавка нового значения по индексу;\n",
        "\n",
        "получение текущей длины массива.\n",
        "\n",
        "1.1) Добавить реализацию удаления элемента из любого места массива и поддержку корректного вывода массива при помощи функции print.\n"
      ],
      "metadata": {
        "id": "ox42dIXINNMP"
      }
    },
    {
      "cell_type": "code",
      "execution_count": null,
      "metadata": {
        "id": "yMhr2vcQNMHT",
        "colab": {
          "base_uri": "https://localhost:8080/"
        },
        "outputId": "3a372ebe-cf2a-4de9-9f0d-64cf93d4af7f"
      },
      "outputs": [
        {
          "output_type": "stream",
          "name": "stdout",
          "text": [
            "array('i', [1, 2, 3])\n"
          ]
        }
      ],
      "source": [
        "from array import array\n",
        "\n",
        "a = array('i', [1,2,3])\n",
        "print(a)"
      ]
    },
    {
      "cell_type": "markdown",
      "source": [
        "2) Реализовать генератор, который возвращает значение поочередно извлекаемое из конца двух очередей (в качестве очереди используется deque из collections). Если очередь из которой извлекается элемент пуста - генератор заканчивает работу."
      ],
      "metadata": {
        "id": "3Vx6AgxoNNyd"
      }
    },
    {
      "cell_type": "code",
      "source": [
        "from collections import deque\n",
        "\n",
        "\n",
        "def generator(deque_1, deque_2):\n",
        "    key = 0\n",
        "    while all([len(deq) != 0 for deq in [deque_1, deque_2]]):\n",
        "        if key == 0:\n",
        "            key = 1\n",
        "            yield deque_1.pop()\n",
        "        else:\n",
        "            key = 0\n",
        "            yield deque_2.pop()\n",
        "\n",
        "\n",
        "a = deque([10, 5, 51, 51, 5])\n",
        "b = deque([1, 2, 3])\n",
        "res = generator(a, b)\n",
        "for i in res:\n",
        "    print(i)\n"
      ],
      "metadata": {
        "colab": {
          "base_uri": "https://localhost:8080/"
        },
        "id": "dt9fSh86NOMH",
        "outputId": "61f8bade-0219-47d5-c9bd-48dae59f7073"
      },
      "execution_count": null,
      "outputs": [
        {
          "output_type": "stream",
          "name": "stdout",
          "text": [
            "5\n",
            "3\n",
            "51\n",
            "2\n",
            "51\n",
            "1\n"
          ]
        }
      ]
    },
    {
      "cell_type": "markdown",
      "source": [
        "3) Реализовать классы с медодом action():\n",
        "\n",
        "а) Класс Pump - в методе action() извлекает очередное значение из генератора и помещает значение в очередь (очередь передается в конструктор).\n",
        "\n",
        "b) Класс MultiAction - при вызове метода action() n раз вызвает метод action() класса, переданного в конструкторе. Число n также определяется в конструкторе.\n",
        "\n",
        "c) Класс MultiPump - в методе action() извлекает очередное значение из генератора и помещает значение в одну из очередей (очереди передается в конструкторе); очереди , в которые помещаются очередные значения, меняются по порядку.\n"
      ],
      "metadata": {
        "id": "DXp_JVtENXMR"
      }
    },
    {
      "cell_type": "code",
      "source": [
        "from collections import deque\n",
        "\n",
        "\n",
        "class Pump(object):\n",
        "\n",
        "    def __init__(self, deq=deque()):\n",
        "        self.deq = deq\n",
        "\n",
        "    def action(self, generator_object):\n",
        "        try:\n",
        "            self.deq.append(next(generator_object))\n",
        "        except StopIteration:\n",
        "            raise StopIteration('Генератор уже закончил работу')\n",
        "\n",
        "class MultiAction(object):\n",
        "\n",
        "    def __init__(self, class_link, count_iterations):\n",
        "        self.classLink = class_link\n",
        "        self.count_iterations = count_iterations\n",
        "\n",
        "    def action(self, generator_object):\n",
        "        try:\n",
        "            for i in range(self.count_iterations):\n",
        "                self.classLink.action(generator_object)\n",
        "        except StopIteration:\n",
        "            raise StopIteration('Генератор уже закончил работу')\n",
        "\n",
        "class MultiPump(object):\n",
        "\n",
        "    def __init__(self, deques=list(deque())):\n",
        "        self.deques = deques\n",
        "        self.index = 0\n",
        "\n",
        "    def action(self, generator_object):\n",
        "        try:\n",
        "            self.deques[self.index].append(next(generator_object))\n",
        "            if (self.index+1) == len(self.deques):\n",
        "                self.index = 0\n",
        "            else:\n",
        "                self.index += 1\n",
        "        except StopIteration:\n",
        "            raise StopIteration('Генератор уже закончил работу')\n",
        "\n",
        "\n",
        "\n",
        "a = deque([10, 5, 51, 51, 5])\n",
        "b = deque([1, 2, 3, 4, 5, 6, 7, 8, 9, 10])\n",
        "res = generator(a, b)\n",
        "pump = Pump()\n",
        "pump.action(res)\n",
        "print(pump.deq)\n",
        "multyAction = MultiAction(pump, 3)\n",
        "multyAction.action(res)\n",
        "print(pump.deq)\n",
        "multyPump = MultiPump([deque(),deque(),deque()])\n",
        "multyPump.action(res)\n",
        "multyPump.action(res)\n",
        "multyPump.action(res)\n",
        "multyPump.action(res)\n",
        "print(multyPump.deques)"
      ],
      "metadata": {
        "colab": {
          "base_uri": "https://localhost:8080/"
        },
        "id": "C9wMnUKgNgTY",
        "outputId": "b6d18e66-0533-4407-8e16-3cb1fbded058"
      },
      "execution_count": null,
      "outputs": [
        {
          "output_type": "stream",
          "name": "stdout",
          "text": [
            "deque([5])\n",
            "deque([5, 10, 51, 9])\n",
            "[deque([51, 7]), deque([8]), deque([5])]\n"
          ]
        }
      ]
    },
    {
      "cell_type": "markdown",
      "source": [
        "4) При помощи GenFromQ, Pump реализовать систему опработки сообщений. Сообщения создаются генератором сообщений возвращающим случайным образорм одно из сообщений. Сообщения из трех генераторов закачиваются в три очереди при помощи классов Pump, далее при помощи GenFromQ и Pump объединяются в одну очередь и выводятся на экран (можно реализовать при помощи класса с action и вызываемого при помощи MultiPump).\n"
      ],
      "metadata": {
        "id": "k8XsHZTXSHEu"
      }
    },
    {
      "cell_type": "code",
      "source": [
        "from random import randint\n",
        "\n",
        "def gen_mess():\n",
        "  messages = ['gjagjajkgwjgwjgjk', 'gagsgsgwgwd vcxx', 'faffaf']\n",
        "  while True:\n",
        "    yield messages[randint(0,2)]\n",
        "\n",
        "deques = MultiPump([deque(),deque(),deque()])\n",
        "multi = MultiAction(deques, 3)\n",
        "gen = gen_mess()\n",
        "multi.action(gen)\n",
        "response = deque()\n",
        "for i in range(len(deques.deques)):\n",
        "  response += deques.deques[i]\n",
        "\n",
        "print(response)"
      ],
      "metadata": {
        "id": "F1hQOtQuSHhw",
        "colab": {
          "base_uri": "https://localhost:8080/"
        },
        "outputId": "c4045c41-44b0-4f14-a4d3-9ed8d0847dd7"
      },
      "execution_count": null,
      "outputs": [
        {
          "output_type": "stream",
          "name": "stdout",
          "text": [
            "deque(['faffaf', 'gjagjajkgwjgwjgjk', 'faffaf'])\n"
          ]
        }
      ]
    }
  ]
}