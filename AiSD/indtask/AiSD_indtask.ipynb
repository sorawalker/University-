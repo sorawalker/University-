{
  "nbformat": 4,
  "nbformat_minor": 0,
  "metadata": {
    "colab": {
      "provenance": []
    },
    "kernelspec": {
      "name": "python3",
      "display_name": "Python 3"
    },
    "language_info": {
      "name": "python"
    }
  },
  "cells": [
    {
      "cell_type": "markdown",
      "source": [
        "Класс – конус. Методы – расчет площади и объема конуса. Поля – радиус основания, высота конуса."
      ],
      "metadata": {
        "id": "d2CweATnKhFW"
      }
    },
    {
      "cell_type": "code",
      "execution_count": null,
      "metadata": {
        "id": "5UzRk4EFKbuD"
      },
      "outputs": [],
      "source": [
        "from math import pi, sqrt\n",
        "\n",
        "class Cone(object):\n",
        "\n",
        "  def __init__(self, radius, height):\n",
        "    self.radius = radius\n",
        "    self.height = height\n",
        "\n",
        "  def calculate_square(self):\n",
        "    return pi * self.radius**2 + sqrt(self.radius**2+self.height**2)*pi*self.radius\n",
        "\n",
        "  def calculate_volume(self):\n",
        "    return 1/3*pi*self.radius**2*self.height"
      ]
    },
    {
      "cell_type": "code",
      "source": [
        "cone = Cone(3,4)\n",
        "\n",
        "square = cone.calculate_square()\n",
        "volume = cone.calculate_volume()\n",
        "\n",
        "print(f'Площадь: {square}, объем: {volume}')"
      ],
      "metadata": {
        "colab": {
          "base_uri": "https://localhost:8080/"
        },
        "id": "JOEI_49xLWKs",
        "outputId": "f1d77a0c-979a-4c61-b72e-8c0ac676e3df"
      },
      "execution_count": null,
      "outputs": [
        {
          "output_type": "stream",
          "name": "stdout",
          "text": [
            "Площадь: 75.39822368615503, объем: 37.69911184307752\n"
          ]
        }
      ]
    },
    {
      "cell_type": "markdown",
      "source": [
        "Опишите класс Triangle, заданный длиной одной стороны и двумя прилежащими углами (в градусах). Включите в описание класса методы, позволяющие вычислить две другие стороны и третий угол треугольника, и свойство, доступное только для чтения, позволяющее установить вид треугольника (равносторонний, равнобедренный, прямоугольный и т. п.)."
      ],
      "metadata": {
        "id": "9TwT4JEGMGKu"
      }
    },
    {
      "cell_type": "code",
      "source": [
        "from math import sin, radians\n",
        "from functools import reduce\n",
        "\n",
        "class Triangle(object):\n",
        "\n",
        "  def __init__(self, side, first_angle, second_angle):\n",
        "    self.first_side = side\n",
        "    self.first_angle = first_angle\n",
        "    self.second_angle = second_angle\n",
        "\n",
        "  def get_third_angle(self):\n",
        "    return 180 - self.first_angle - self.second_angle\n",
        "\n",
        "  def get_other_sides(self):\n",
        "    second_side = self.first_side * sin(radians(self.first_angle)) / sin(radians(self.get_third_angle()))\n",
        "    third_side = self.first_side * sin(radians(self.second_angle)) / sin(radians(self.get_third_angle()))\n",
        "    return second_side, third_side\n",
        "\n",
        "  @property\n",
        "  def type(self):\n",
        "    angles = [self.first_angle, self.second_angle, self.get_third_angle()]\n",
        "    sides = [self.first_side] + list(self.get_other_sides())\n",
        "    if any([angle==90 for angle in angles]):\n",
        "      return 'Прямоугольный'\n",
        "    if all([sides[0]==sides[1],sides[1]==sides[2]]):\n",
        "      return 'Равносторонний'\n",
        "    if any([angles[0] == angles[1], angles[1]==angles[2],angles[0]==angles[2]]):\n",
        "      return 'Равнобедренный'\n",
        "    if any([angle>90 for angle in angles]):\n",
        "      return 'Тупоугольный'\n",
        "    return 'Остроугольный'\n"
      ],
      "metadata": {
        "id": "gdTdYhqGMJro"
      },
      "execution_count": null,
      "outputs": []
    },
    {
      "cell_type": "code",
      "source": [
        "triangle = Triangle(5,110,50)\n",
        "print(triangle.get_third_angle())\n",
        "print(triangle.get_other_sides())\n",
        "print(triangle.type)"
      ],
      "metadata": {
        "colab": {
          "base_uri": "https://localhost:8080/"
        },
        "id": "cVIkcCzCQgxF",
        "outputId": "58b364aa-520b-465a-c191-5943c3006b67"
      },
      "execution_count": null,
      "outputs": [
        {
          "output_type": "stream",
          "name": "stdout",
          "text": [
            "20\n",
            "(13.737387097273114, 11.19882056755875)\n",
            "Тупоугольный\n"
          ]
        }
      ]
    },
    {
      "cell_type": "markdown",
      "source": [
        "Создайте класс ТРАНСПОРТ с методами, позволяющими вывести на экран информацию о транспортном средстве, а также определить, находится ли транспортное средство в пределах заданных координат. Создайте дочерние классы САМОЛЕТ (марка, максимальные скорость и высота, количество пассажиров, координаты), АВТОМОБИЛЬ (марка, номер, год выпуска, координаты), КОРАБЛЬ (название, координаты, скорость, количество пассажиров, порт приписки) со своими методами вывода информации на экран и определения присутствия транспортного средства в пределах заданных координат. Создайте список из $n$ транспортных средств, выведите полную информацию из базы на экран, а также организуйте поиск транспортных средств, которые сейчас находятся в пределах заданных координат."
      ],
      "metadata": {
        "id": "gFh2SmQDQgHx"
      }
    },
    {
      "cell_type": "code",
      "source": [
        "class Transport(object):\n",
        "\n",
        "  def __init__(self, latitude,longitude):\n",
        "    self.cords = {\n",
        "        'latitude':latitude,\n",
        "        'longitude':longitude,\n",
        "    }\n",
        "\n",
        "  def __str__(self):\n",
        "    return f'Широта:{self.cords[\"latitude\"]}, долгота: {self.cords[\"longitude\"]}'\n",
        "\n",
        "  def check_cords(self, latitude1,longitude1,latitude2,longitude2):\n",
        "    if latitude1 <= self.cords[\"latitude\"] <= latitude2 and longitude1 <= self.cords[\"longitude\"] <= longitude2:\n",
        "      return True\n",
        "    return False\n",
        "\n",
        "class Plane(Transport):\n",
        "\n",
        "  def __init__(self, brand, max_speed, max_height, count_passengers, latitude,longitude):\n",
        "    super().__init__(latitude, longitude)\n",
        "    self.brand = brand\n",
        "    self.max_speed = max_speed\n",
        "    self.max_height = max_height\n",
        "    self.count_passengers = count_passengers\n",
        "\n",
        "  def __str__(self):\n",
        "    return f'Марка: {self.brand}, максимальная скорость: {self.max_speed}, максимальная высота: {self.max_height}, количество пассажиров: {self.count_passengers}, широта: {self.cords[\"latitude\"]}, долгота: {self.cords[\"longitude\"]}'\n",
        "\n",
        "class Car(Transport):\n",
        "\n",
        "  def __init__(self, brand, number, year_of_manufacture, latitude, longitude):\n",
        "    super().__init__(latitude, longitude)\n",
        "    self.brand = brand\n",
        "    self.number = number\n",
        "    self.year_of_manufacture = year_of_manufacture\n",
        "\n",
        "\n",
        "  def __str__(self):\n",
        "    return f'Марка: {self.brand}, номер: {self.number}, год выпуска: {self.year_of_manufacture}, широта: {self.cords[\"latitude\"]}, долгота: {self.cords[\"longitude\"]}'\n",
        "\n",
        "class Ship(Transport):\n",
        "\n",
        "  def __init__(self, name, latitude,longitude, speed, count_passengers, port):\n",
        "    super().__init__(latitude,longitude)\n",
        "    self.name = name\n",
        "    self.speed = speed\n",
        "    self.count_passengers = count_passengers\n",
        "    self.port = port\n",
        "\n",
        "  def __str__(self):\n",
        "    return f'Название: {self.name}, широта: {self.cords[\"latitude\"]}, долгота: {self.cords[\"longitude\"]}, скорость: {self.speed}, количество пассажиров: {self.count_passengers}, порт приписки: {self.port} '"
      ],
      "metadata": {
        "id": "SVaghJzSTIvi"
      },
      "execution_count": null,
      "outputs": []
    },
    {
      "cell_type": "code",
      "source": [
        "transports = [Plane('BOING',\"10000kmph\",\"10m\",2,39.14,49.5), Car('Mercedez benz cls63','AA100A','1939',10.41,70.1), Ship(\"AURORA\", 76.41,41.0510567,\"2kmph\",1000, 1310067)]\n",
        "for transport in transports:\n",
        "  print(transport)\n",
        "\n",
        "cords1 = {\n",
        "    'latitude': 20.1,\n",
        "    'longitude':30,\n",
        "}\n",
        "\n",
        "cords2 = {\n",
        "    'latitude': 70.3,\n",
        "    'longitude': 50,\n",
        "}\n",
        "\n",
        "print(f'\\nТранспорты входящие в координаты ({cords1[\"latitude\"]},{cords1[\"longitude\"]}) и ({cords2[\"latitude\"]},{cords2[\"longitude\"]})')\n",
        "for transport in transports:\n",
        "  if transport.check_cords(cords1[\"latitude\"],cords1[\"longitude\"],cords2[\"latitude\"],cords2[\"longitude\"]):\n",
        "    print(transport)"
      ],
      "metadata": {
        "colab": {
          "base_uri": "https://localhost:8080/"
        },
        "id": "KpHb0bJpYsqq",
        "outputId": "5632c347-1a71-42bc-e6ce-577c3eb6314e"
      },
      "execution_count": null,
      "outputs": [
        {
          "output_type": "stream",
          "name": "stdout",
          "text": [
            "Марка: BOING, максимальная скорость: 10000kmph, максимальная высота: 10m, количество пассажиров: 2, широта: 39.14, долгота: 49.5\n",
            "Марка: Mercedez benz cls63, номер: AA100A, год выпуска: 1939, широта: 10.41, долгота: 70.1\n",
            "Название: AURORA, широта: 76.41, долгота: 41.0510567, скорость: 2kmph, количество пассажиров: 1000, порт приписки: 1310067 \n",
            "\n",
            "Транспорты входящие в координаты (20.1,30) и (70.3,50)\n",
            "Марка: BOING, максимальная скорость: 10000kmph, максимальная высота: 10m, количество пассажиров: 2, широта: 39.14, долгота: 49.5\n"
          ]
        }
      ]
    }
  ]
}