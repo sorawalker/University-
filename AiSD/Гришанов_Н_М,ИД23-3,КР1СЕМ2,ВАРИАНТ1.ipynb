{
 "cells": [
  {
   "cell_type": "markdown",
   "metadata": {},
   "source": [
    "### Контрольная работа № 1.\n",
    "### Вариант 1.\n",
    "#### Студент Гришанов Никита Михайлович группа ИД23-3"
   ]
  },
  {
   "cell_type": "markdown",
   "metadata": {},
   "source": [
    "1. Создайте класс Length (Длина), имеющий свойства\n",
    "\n",
    "• value (значение),\n",
    "\n",
    "• unit (единица измерения).\n",
    "\n",
    "При изменении единицы измерения значение должно соответственно меняться. Например, при переходе от сантиметров к метрам значение должно уменьшаться в 100 раз. Допустимые значения свойства unit: ‘см’, ‘м’, ‘км’. Организуйте эту проверку. Продемонстрируйте работу с классом."
   ]
  },
  {
   "cell_type": "code",
   "execution_count": 98,
   "metadata": {},
   "outputs": [],
   "source": [
    "# Решение 1.\n",
    "\n",
    "class Length(object):\n",
    "    \n",
    "    def __init__(self, value, unit):\n",
    "        self.__value = value\n",
    "        self.__unit = unit\n",
    "        self.previous = self.__unit\n",
    "        \n",
    "    @property\n",
    "    def unit(self):\n",
    "        return self.__unit\n",
    "    \n",
    "    @unit.setter\n",
    "    def unit(self, value):\n",
    "        self.__unit = value\n",
    "    \n",
    "    @property\n",
    "    def value(self):\n",
    "        match self.previous:\n",
    "            case 'см':\n",
    "                match self.unit:\n",
    "                    case 'м':\n",
    "                        v = self.__value / 100\n",
    "                        self.__value = v\n",
    "                        self.previous = self.unit\n",
    "                        return v\n",
    "                    case 'км':\n",
    "                        v = self.__value / 100000\n",
    "                        self.__value = v\n",
    "                        self.previous = self.unit\n",
    "                        return v\n",
    "                    case _:\n",
    "                        return self.__value\n",
    "            case 'м':\n",
    "                match self.unit:\n",
    "                    case 'см':\n",
    "                        v = self.__value * 100\n",
    "                        self.__value = v\n",
    "                        self.previous = self.unit\n",
    "                        return v\n",
    "                    case 'км':\n",
    "                        v = self.__value / 1000\n",
    "                        self.__value = v\n",
    "                        self.previous = self.unit\n",
    "                        return v\n",
    "                    case _:\n",
    "                        return self.__value\n",
    "            case 'км':\n",
    "                match self.unit:\n",
    "                    case 'м':\n",
    "                        v = self.__value * 1000\n",
    "                        self.__value = v\n",
    "                        self.previous = self.unit\n",
    "                        return v\n",
    "                    case 'см':\n",
    "                        v = self.__value * 100000\n",
    "                        self.__value = v\n",
    "                        self.previous = self.unit\n",
    "                        return v\n",
    "                    case _:\n",
    "                        return self.__value\n",
    "\n",
    "    "
   ]
  },
  {
   "cell_type": "code",
   "execution_count": 99,
   "metadata": {},
   "outputs": [
    {
     "name": "stdout",
     "output_type": "stream",
     "text": [
      "1000\n"
     ]
    },
    {
     "data": {
      "text/plain": [
       "0.01"
      ]
     },
     "execution_count": 99,
     "metadata": {},
     "output_type": "execute_result"
    }
   ],
   "source": [
    "len = Length(10, 'м')\n",
    "len.unit = 'см'\n",
    "print(len.value)\n",
    "len.unit = 'км'\n",
    "len.value"
   ]
  },
  {
   "cell_type": "markdown",
   "metadata": {},
   "source": [
    "2. Создайте класс Ведомость, имеющий\n",
    "атрибут класса:\n",
    "\n",
    "• список_дисциплин (значением является список с названиями дисциплин);\n",
    "\n",
    "свойства:\n",
    "\n",
    "• дисциплина (при задании значения проверять наличие дисциплины в атрибуте список_дисциплин),\n",
    "\n",
    "• группа;\n",
    "\n",
    "методы:\n",
    "\n",
    "• put – добавляет в ведомость информацию об оценке студента (фамилия, оценка – параметры метода). Для хранения данных внутри класса используйте словарь, в котором ключом является фамилия студента. Возможные оценки – «отлично», «хорошо», «удовл.», «неудовл.», «н/я»;\n",
    "\n",
    "• get – возвращает оценку, полученную студентом (фамилия студента – параметр метода);\n",
    "\n",
    "• change – изменяет оценку, полученную студентом (фамилия студента и новая оценка – параметры метода);\n",
    "\n",
    "• del – удаляет информацию о студенте из ведомости (фамилия студента – параметр метода);\n",
    "\n",
    "• result – возвращает кортеж из 5 чисел (количество каждого вида оценок в ведомости);\n",
    "\n",
    "• __init__ – конструктор;\n",
    "\n",
    "• __str__ – возвращает строку, содержащую заголовки (название экзамена, группа) и результаты экзамена в виде таблицы;\n",
    "\n",
    "• count – возвращает количество студентов в ведомости;\n",
    "\n",
    "• names – возвращает список фамилий, имеющихся в ведомости.\n",
    "\n",
    "Продемонстрируйте работу с классом. \n"
   ]
  },
  {
   "cell_type": "code",
   "execution_count": 100,
   "metadata": {},
   "outputs": [],
   "source": [
    "# Решение 2.\n",
    "\n",
    "class Statement(object):\n",
    "    list_disciplines = ['Algebra and analysis', 'Information Technologies']\n",
    "    \n",
    "    def __init__(self, descipline, group):\n",
    "        self.__descipline = descipline\n",
    "        self.__group = group\n",
    "        self.grades = {}\n",
    "        \n",
    "    def put(self, surname, grade):\n",
    "        if grade in ['excellent', 'good', 'satisfactory', 'unsatisfactory', 'n/a']:\n",
    "            self.grades[surname] = grade\n",
    "        else:\n",
    "            print(\"Incorrect grade\")\n",
    "\n",
    "    def get(self, surname):\n",
    "        return self.grades.get(surname)\n",
    "\n",
    "    def change(self, surname, new_grade):\n",
    "        if new_grade in ['excellent', 'good', 'satisfactory', 'unsatisfactory', 'n/a']:\n",
    "            self.grades[surname] = new_grade\n",
    "        else:\n",
    "            print(\"Incorrect grade\")\n",
    "\n",
    "    def delete(self, surname):\n",
    "        del self.grades[surname]\n",
    "\n",
    "    def result(self):\n",
    "        excellent = list(self.grades.values()).count('excellent')\n",
    "        good = list(self.grades.values()).count('good')\n",
    "        satisfactory = list(self.grades.values()).count('satisfactory')\n",
    "        unsatisfactory = list(self.grades.values()).count('unsatisfactory')\n",
    "        n_a = list(self.grades.values()).count('n/a')\n",
    "        return (excellent, good, satisfactory, unsatisfactory, n_a)\n",
    "\n",
    "    def __str__(self):\n",
    "        res = f\"Exam: {self.descipline}, Group: {self.group}\\n\"\n",
    "        res += \"Surname  Grade\\n\"\n",
    "        for surname, grade in self.grades.items():\n",
    "            res += f\"{surname}  {grade}\\n\"\n",
    "        return res\n",
    "\n",
    "    def count(self):\n",
    "        return len(list(self.grades.keys()))\n",
    "\n",
    "    def names(self):\n",
    "        return list(self.grades.keys())\n",
    "    \n",
    "    @property\n",
    "    def descipline(self):\n",
    "        return self.__descipline if self.__descipline in self.list_disciplines else None\n",
    "    \n",
    "    @property\n",
    "    def group(self):\n",
    "        return self.__group"
   ]
  },
  {
   "cell_type": "code",
   "execution_count": 101,
   "metadata": {},
   "outputs": [
    {
     "name": "stdout",
     "output_type": "stream",
     "text": [
      "Exam: Algebra and analysis, Group: ID23-3\n",
      "Surname  Grade\n",
      "Гогин  unsatisfactory\n",
      "Рязанов  unsatisfactory\n",
      "Серов  unsatisfactory\n",
      "Гришанов  excellent\n",
      "\n"
     ]
    },
    {
     "ename": "TypeError",
     "evalue": "'Length' object is not callable",
     "output_type": "error",
     "traceback": [
      "\u001b[1;31m---------------------------------------------------------------------------\u001b[0m",
      "\u001b[1;31mTypeError\u001b[0m                                 Traceback (most recent call last)",
      "Cell \u001b[1;32mIn[101], line 7\u001b[0m\n\u001b[0;32m      5\u001b[0m statement\u001b[38;5;241m.\u001b[39mput(\u001b[38;5;124m'\u001b[39m\u001b[38;5;124mГришанов\u001b[39m\u001b[38;5;124m'\u001b[39m, \u001b[38;5;124m'\u001b[39m\u001b[38;5;124mexcellent\u001b[39m\u001b[38;5;124m'\u001b[39m)\n\u001b[0;32m      6\u001b[0m \u001b[38;5;28mprint\u001b[39m(statement)\n\u001b[1;32m----> 7\u001b[0m \u001b[38;5;28mprint\u001b[39m(\u001b[38;5;124m\"\u001b[39m\u001b[38;5;124mКоличество студентов:\u001b[39m\u001b[38;5;124m\"\u001b[39m, statement\u001b[38;5;241m.\u001b[39mcount())\n\u001b[0;32m      8\u001b[0m \u001b[38;5;28mprint\u001b[39m(\u001b[38;5;124m\"\u001b[39m\u001b[38;5;124mСписок студентов:\u001b[39m\u001b[38;5;124m\"\u001b[39m, statement\u001b[38;5;241m.\u001b[39mnames())\n\u001b[0;32m      9\u001b[0m \u001b[38;5;28mprint\u001b[39m(\u001b[38;5;124m\"\u001b[39m\u001b[38;5;124mРезультаты экзамена:\u001b[39m\u001b[38;5;124m\"\u001b[39m, statement\u001b[38;5;241m.\u001b[39mresult())\n",
      "Cell \u001b[1;32mIn[100], line 45\u001b[0m, in \u001b[0;36mStatement.count\u001b[1;34m(self)\u001b[0m\n\u001b[0;32m     44\u001b[0m \u001b[38;5;28;01mdef\u001b[39;00m \u001b[38;5;21mcount\u001b[39m(\u001b[38;5;28mself\u001b[39m):\n\u001b[1;32m---> 45\u001b[0m     \u001b[38;5;28;01mreturn\u001b[39;00m \u001b[38;5;28mlen\u001b[39m(\u001b[38;5;28mlist\u001b[39m(\u001b[38;5;28mself\u001b[39m\u001b[38;5;241m.\u001b[39mgrades\u001b[38;5;241m.\u001b[39mkeys()))\n",
      "\u001b[1;31mTypeError\u001b[0m: 'Length' object is not callable"
     ]
    }
   ],
   "source": [
    "statement = Statement('Algebra and analysis', 'ID23-3')\n",
    "statement.put('Гогин', 'unsatisfactory')\n",
    "statement.put('Рязанов', 'unsatisfactory')\n",
    "statement.put('Серов', 'unsatisfactory')\n",
    "statement.put('Гришанов', 'excellent')\n",
    "print(statement)\n",
    "print(\"Количество студентов:\", statement.count())\n",
    "print(\"Список студентов:\", statement.names())\n",
    "print(\"Результаты экзамена:\", statement.result())\n",
    "statement.change('Рязанов', 'excellent')\n",
    "print(statement)\n",
    "print(\"Результаты экзамена:\", statement.result())\n",
    "statement.delete('Серов')\n",
    "print(statement)\n",
    "print('Результаты экзамена:', statement.result())"
   ]
  },
  {
   "cell_type": "markdown",
   "metadata": {},
   "source": [
    "3. Создайте класс Заказ(Order), у которого есть свойства код_товара(code), цена(price), количество(count) и методы __init__ и __str__.\n",
    "\n",
    "Создайте 2 класса-потомка: Опт(Opt) и Розница(Retail).\n",
    "В этих классах создайте методы __init__, __str__.и сумма_заказа(summa), позволяющий узнать стоимость заказа.\n",
    "Для опта стоимость единицы товара составляет 95% от цены, а при покупке более 500 штук – 90% цены.\n",
    "В розницу стоимость единицы товара составляет 100% цены. Стоимость заказа равна произведению цены на количество. \n",
    "\n",
    "Продемонстрируйте работу с классами, создав необходимые объекты и обратившись к их свойствам и методам\n"
   ]
  },
  {
   "cell_type": "code",
   "execution_count": 84,
   "metadata": {},
   "outputs": [],
   "source": [
    "# Решение 3.\n",
    "class Order(object):\n",
    "    \n",
    "    def __init__(self, code, price, count):\n",
    "        self.__code = code\n",
    "        self.__price = price\n",
    "        self.__count = count\n",
    "        \n",
    "    @property\n",
    "    def code(self):\n",
    "        return self.__code\n",
    "    \n",
    "    @property\n",
    "    def count(self):\n",
    "        return self.__count\n",
    "    \n",
    "    @property\n",
    "    def price(self):\n",
    "        return self.__price\n",
    "    \n",
    "    def __str__(self):\n",
    "        return f'Код {self.code}, цена {self.price}, количество {self.count}'\n",
    "    \n",
    "class Opt(Order):\n",
    "    \n",
    "    def __init__(self, code, price, count):\n",
    "        super().__init__(code,price,count)\n",
    "        \n",
    "    @property\n",
    "    def summ(self):\n",
    "        if self.count > 500:\n",
    "            return self.price * 0.9\n",
    "        return self.price * 0.95\n",
    "    \n",
    "    def summa(self):\n",
    "        return self.summ\n",
    "    \n",
    "    def __str__(self):\n",
    "        return f'Сумма заказа {self.summ}'\n",
    "    \n",
    "class Retail(Order):\n",
    "    \n",
    "    def __init__(self, code, price, count):\n",
    "        super().__init__(code,price,count)\n",
    "        \n",
    "    @property\n",
    "    def summ(self):\n",
    "        return self.price\n",
    "    \n",
    "    def summa(self):\n",
    "        return self.summ\n",
    "    \n",
    "    def __str__(self):\n",
    "        return f'Сумма заказа {self.summ}'"
   ]
  },
  {
   "cell_type": "code",
   "execution_count": 68,
   "metadata": {},
   "outputs": [
    {
     "name": "stdout",
     "output_type": "stream",
     "text": [
      "Код 100, цена 500, количество 100\n",
      "Сумма заказа 475.0\n",
      "Сумма заказа 570.0\n",
      "Сумма заказа 500\n"
     ]
    }
   ],
   "source": [
    "order = Order(100,500,100)\n",
    "print(order)\n",
    "opt = Opt(100,500,100)\n",
    "print(opt)\n",
    "opt = Opt(100,600,100)\n",
    "print(opt)\n",
    "ret = Retail(100,500,100)\n",
    "print(ret)"
   ]
  },
  {
   "cell_type": "markdown",
   "metadata": {},
   "source": [
    "4. Написать функцию my_func_1(lst), которая переворачивает список вложенных списков с произвольным уровнем вложенности.\n",
    "Любой элемент, не являющийся списком, не должен быть изменен.\n",
    "\n",
    "Примеры, демонстрирующие ожидаемое поведение функции:\n",
    "\n",
    "assert my_func_1(42) == 42\n",
    "\n",
    "assert my_func_1([]) == []\n",
    "\n",
    "assert my_func_1([1, 2]) == [2, 1]\n",
    "\n",
    "assert my_func_1((1, 2)) == (1, 2)\n",
    "\n",
    "assert my_func_1([[1, 2], [3, [4, 5]], 6]) == [6, [[5, 4], 3], [2, 1]]\n",
    "\n",
    "assert my_func_1(['123', '456', '789', {10: [11, 12], 13: 14}, (15, 16)]) == [(15, 16), {10: [11, 12], 13: 14}, '789', '456', '123']\n",
    "\n",
    "assert my_func_1([[[[[1, 2]]]]]) == [[[[[2, 1]]]]]"
   ]
  },
  {
   "cell_type": "code",
   "execution_count": 47,
   "metadata": {},
   "outputs": [
    {
     "name": "stdout",
     "output_type": "stream",
     "text": [
      "42\n",
      "[]\n",
      "[2, 1]\n",
      "(1, 2)\n",
      "[6, [[5, 4], 3], [2, 1]]\n",
      "[(15, 16), {10: [11, 12], 13: 14}, '789', '456', '123']\n",
      "[[[[[2, 1]]]]]\n"
     ]
    }
   ],
   "source": [
    "# Решение 4.\n",
    "\n",
    "def my_func_1(lst):\n",
    "    if not isinstance(lst,list):\n",
    "        return lst\n",
    "    n_lst = []\n",
    "    for sub_element in lst:\n",
    "        n_lst.append(my_func_1(sub_element))\n",
    "    n_lst = n_lst[::-1]\n",
    "    return n_lst\n",
    "    \n",
    "print(my_func_1(42))\n",
    "print(my_func_1([]))\n",
    "print(my_func_1([1,2]))\n",
    "print(my_func_1((1,2)))\n",
    "print(my_func_1([[1, 2], [3, [4, 5]], 6]))\n",
    "print(my_func_1(['123', '456', '789', {10: [11, 12], 13: 14}, (15, 16)]))\n",
    "print(my_func_1([[[[[1, 2]]]]]))"
   ]
  },
  {
   "cell_type": "markdown",
   "metadata": {},
   "source": [
    "5.При помощи механизма map/filter/reduce возвести в квадрат числа от 1 до 100, и рассчитать их сумму, не включая в сумму числа, кратные 9. Написать реализацию в одну строку."
   ]
  },
  {
   "cell_type": "code",
   "execution_count": 82,
   "metadata": {},
   "outputs": [
    {
     "data": {
      "text/plain": [
       "225589"
      ]
     },
     "execution_count": 82,
     "metadata": {},
     "output_type": "execute_result"
    }
   ],
   "source": [
    "# Решение 5.\n",
    "from functools import reduce\n",
    "reduce(lambda x,y: x+y,list(filter(lambda x: x%9!=0,list(map(lambda x:x**2,range(1,101))))))"
   ]
  }
 ],
 "metadata": {
  "kernelspec": {
   "display_name": "Python 3 (ipykernel)",
   "language": "python",
   "name": "python3"
  },
  "language_info": {
   "codemirror_mode": {
    "name": "ipython",
    "version": 3
   },
   "file_extension": ".py",
   "mimetype": "text/x-python",
   "name": "python",
   "nbconvert_exporter": "python",
   "pygments_lexer": "ipython3",
   "version": "3.11.5"
  }
 },
 "nbformat": 4,
 "nbformat_minor": 4
}
